{
  "nbformat": 4,
  "nbformat_minor": 0,
  "metadata": {
    "colab": {
      "provenance": [],
      "gpuType": "T4"
    },
    "kernelspec": {
      "name": "python3",
      "display_name": "Python 3"
    },
    "language_info": {
      "name": "python"
    },
    "accelerator": "GPU"
  },
  "cells": [
    {
      "cell_type": "markdown",
      "source": [
        "# Import for building essentials"
      ],
      "metadata": {
        "id": "5B2MwC6itP0V"
      }
    },
    {
      "cell_type": "code",
      "source": [
        "from google.colab import drive\n",
        "drive.mount('/content/drive')"
      ],
      "metadata": {
        "colab": {
          "base_uri": "https://localhost:8080/"
        },
        "id": "cq7a_Gav49T1",
        "outputId": "d588c65e-0803-4eec-94ba-54ed8c891881"
      },
      "execution_count": null,
      "outputs": [
        {
          "output_type": "stream",
          "name": "stdout",
          "text": [
            "Mounted at /content/drive\n"
          ]
        }
      ]
    },
    {
      "cell_type": "code",
      "source": [
        "import os\n",
        "import glob\n",
        "import shutil\n",
        "from torchvision import datasets, models, transforms\n",
        "import torch.nn as nn\n",
        "from torch.nn.modules.loss import BCEWithLogitsLoss, CrossEntropyLoss\n",
        "from torch.optim import lr_scheduler\n",
        "from tqdm import tqdm\n",
        "import matplotlib.pyplot as plt\n",
        "from PIL import ImageFile\n",
        "ImageFile.LOAD_TRUNCATED_IMAGES = True\n",
        "from sklearn.metrics import classification_report\n",
        "import torch\n",
        "from imblearn.over_sampling import SMOTE\n",
        "import zipfile\n",
        "import os\n",
        "from PIL import Image\n",
        "import random\n",
        "import pandas as pd\n",
        "import numpy as np"
      ],
      "metadata": {
        "id": "1lsjSfbPtz08"
      },
      "execution_count": null,
      "outputs": []
    },
    {
      "cell_type": "markdown",
      "source": [
        "# Download shared data dir at Drive"
      ],
      "metadata": {
        "id": "yB0RRib_u2TA"
      }
    },
    {
      "cell_type": "code",
      "source": [
        "!rm -rf /content/data"
      ],
      "metadata": {
        "id": "CUtuSG66m4YC"
      },
      "execution_count": null,
      "outputs": []
    },
    {
      "cell_type": "code",
      "source": [
        "!rm -rf /content/data/TODO"
      ],
      "metadata": {
        "id": "jzjxhLY1oPE5"
      },
      "execution_count": null,
      "outputs": []
    },
    {
      "cell_type": "markdown",
      "source": [
        "## Load data split"
      ],
      "metadata": {
        "id": "jefrs6RjnJi1"
      }
    },
    {
      "cell_type": "code",
      "source": [
        "!cp -r /content/drive/MyDrive/validation /content/data"
      ],
      "metadata": {
        "id": "sMQz2SO2mV-c"
      },
      "execution_count": null,
      "outputs": []
    },
    {
      "cell_type": "code",
      "source": [
        "testdir = \"/content/drive/MyDrive/validation\"\n",
        "test_transforms = transforms.Compose([transforms.Resize((1024,768)),\n",
        "                                      transforms.ToTensor(),\n",
        "                                      torchvision.transforms.Normalize(\n",
        "                                          mean=[0.485, 0.456, 0.406],\n",
        "                                          std=[0.229, 0.224, 0.225],\n",
        "    ),\n",
        "                                      ])\n",
        "\n",
        "test_data = DatasetImageCustom(testdir,transform=test_transforms)\n",
        "\n",
        "testloader = torch.utils.data.DataLoader(test_data, shuffle = True, batch_size=16)"
      ],
      "metadata": {
        "id": "tIKlOgZMm1_m"
      },
      "execution_count": null,
      "outputs": []
    },
    {
      "cell_type": "markdown",
      "source": [
        "## End load data splited"
      ],
      "metadata": {
        "id": "C1BZA5uVnN1P"
      }
    },
    {
      "cell_type": "code",
      "source": [
        "def descomprimir_archivo(ruta_archivo_zip, ruta_destino):\n",
        "    with zipfile.ZipFile(ruta_archivo_zip, 'r') as zip_ref:\n",
        "        zip_ref.extractall(ruta_destino)\n",
        "\n",
        "\n",
        "ruta_archivo_zip = \"/content/drive/MyDrive/MulticlassDiscriminatorImagesV2.zip\"\n",
        "ruta_destino = \"/content/data\"\n",
        "\n",
        "if not os.path.exists(ruta_destino):\n",
        "    os.makedirs(ruta_destino)\n",
        "\n",
        "descomprimir_archivo(ruta_archivo_zip, ruta_destino)"
      ],
      "metadata": {
        "id": "CoC1Lnamukq_"
      },
      "execution_count": null,
      "outputs": []
    },
    {
      "cell_type": "code",
      "source": [
        "data_dir = \"/content/data\"\n",
        "classes=[\"CURVATURA\",\"INCLINACION\", \"ORIGINAL\", \"RUIDO\", \"TODO\"]\n",
        "\n",
        "#create training dir\n",
        "training_dir = os.path.join(data_dir,\"training\")\n",
        "if not os.path.isdir(training_dir):\n",
        "  os.mkdir(training_dir)\n",
        "\n",
        "#create folder per classes\n",
        "for class_name in classes:\n",
        "  class_dir = os.path.join(training_dir,class_name)\n",
        "  if not os.path.isdir(class_dir):\n",
        "    os.mkdir(class_dir)\n",
        "\n",
        "\n",
        "#create validation dir\n",
        "validation_dir = os.path.join(data_dir,\"validation\")\n",
        "if not os.path.isdir(validation_dir):\n",
        "  os.mkdir(validation_dir)\n",
        "\n",
        "\n",
        "#create folder per classes\n",
        "for class_name in classes:\n",
        "  class_dir = os.path.join(validation_dir,class_name)\n",
        "  if not os.path.isdir(class_dir):\n",
        "    os.mkdir(class_dir)\n"
      ],
      "metadata": {
        "id": "21QRmRF-t-l_"
      },
      "execution_count": null,
      "outputs": []
    },
    {
      "cell_type": "code",
      "source": [
        "# Import for building essentials\n",
        "ImageFile.LOAD_TRUNCATED_IMAGES = True\n",
        "\n",
        "# Function to perform random sampling and create training/validation sets\n",
        "def create_sample_datasets(data_dir, training_dir, validation_dir, classes):  # Default sample size is 100\n",
        "    for class_name in [\"CURVATURA\",\"INCLINACION\", \"ORIGINAL\", \"RUIDO\", \"TODO\"]:\n",
        "        source_dir = os.path.join(data_dir, class_name)\n",
        "        sample_size = len(glob.glob(f\"{source_dir}/*\"))\n",
        "        print(source_dir)\n",
        "        image_files = glob.glob(os.path.join(source_dir, '*.jpg')) # Assuming images are JPGs\n",
        "        random.shuffle(image_files)  # Shuffle the images randomly\n",
        "\n",
        "\n",
        "        # Split images into training and validation sets (e.g., 80/20 split)\n",
        "        split_index = int(0.8 * len(image_files))\n",
        "        train_images = image_files[:split_index][:sample_size] #Take only sample_size images\n",
        "        val_images = image_files[split_index:][:int(0.2 * sample_size)]\n",
        "\n",
        "        # Copy training images\n",
        "        for image_file in train_images:\n",
        "            destination_dir = os.path.join(training_dir, class_name)\n",
        "            shutil.copy(image_file, destination_dir)\n",
        "\n",
        "        # Copy validation images\n",
        "        for image_file in val_images:\n",
        "            destination_dir = os.path.join(validation_dir, class_name)\n",
        "            shutil.copy(image_file, destination_dir)\n",
        "\n",
        "\n",
        "create_sample_datasets(\"/content/data/MulticlassDiscriminatorImages\", training_dir, validation_dir, classes)"
      ],
      "metadata": {
        "colab": {
          "base_uri": "https://localhost:8080/"
        },
        "id": "oHrN37vowJ6F",
        "outputId": "9504023c-2088-48c9-fed7-3fa63d59f55e"
      },
      "execution_count": null,
      "outputs": [
        {
          "output_type": "stream",
          "name": "stdout",
          "text": [
            "/content/data/MulticlassDiscriminatorImages/CURVATURA\n",
            "/content/data/MulticlassDiscriminatorImages/INCLINACION\n",
            "/content/data/MulticlassDiscriminatorImages/ORIGINAL\n",
            "/content/data/MulticlassDiscriminatorImages/RUIDO\n",
            "/content/data/MulticlassDiscriminatorImages/TODO\n"
          ]
        }
      ]
    },
    {
      "cell_type": "code",
      "source": [
        "import matplotlib.pyplot as plt\n",
        "import os\n",
        "\n",
        "# Count the number of images in each class in the training directory\n",
        "class_counts = {}\n",
        "for class_name in classes[:]:\n",
        "    class_dir = os.path.join(training_dir, class_name)\n",
        "    class_counts[class_name] = len(os.listdir(class_dir))\n",
        "\n",
        "# Create the bar chart\n",
        "plt.figure(figsize=(10, 5))\n",
        "plt.bar(class_counts.keys(), class_counts.values())\n",
        "plt.xlabel(\"Classes\")\n",
        "plt.ylabel(\"Number of images\")\n",
        "plt.title(\"Class distribution for ITPP database in training set\")\n",
        "#plt.show()\n",
        "plt.savefig('training_set_ITPP.pdf', format='pdf')"
      ],
      "metadata": {
        "colab": {
          "base_uri": "https://localhost:8080/",
          "height": 487
        },
        "id": "u5ckKw9by67_",
        "outputId": "7e15f3bf-a7f6-4028-97fd-e4f2473a8d87"
      },
      "execution_count": null,
      "outputs": [
        {
          "output_type": "display_data",
          "data": {
            "text/plain": [
              "<Figure size 1000x500 with 1 Axes>"
            ],
            "image/png": "[encoded data removed]"
          },
          "metadata": {}
        }
      ]
    },
    {
      "cell_type": "code",
      "source": [
        "class_counts = {}\n",
        "for class_name in classes[:]:\n",
        "    class_dir = os.path.join(validation_dir, class_name)\n",
        "    class_counts[class_name] = len(os.listdir(class_dir))\n",
        "\n",
        "# Create the bar chart\n",
        "plt.figure(figsize=(10, 5))\n",
        "plt.bar(class_counts.keys(), class_counts.values())\n",
        "plt.xlabel(\"Classes\")\n",
        "plt.ylabel(\"Number of images\")\n",
        "plt.title(\"Class distribution for ITPP database in test set\")\n",
        "#plt.show()\n",
        "plt.savefig('test_set_ITPP.pdf', format='pdf')"
      ],
      "metadata": {
        "colab": {
          "base_uri": "https://localhost:8080/",
          "height": 211
        },
        "id": "-T3gaditzCv_",
        "outputId": "3cdc9331-f6e2-49ee-a5be-3728a013edc2"
      },
      "execution_count": null,
      "outputs": [
        {
          "output_type": "error",
          "ename": "NameError",
          "evalue": "name 'classes' is not defined",
          "traceback": [
            "\u001b[0;31m---------------------------------------------------------------------------\u001b[0m",
            "\u001b[0;31mNameError\u001b[0m                                 Traceback (most recent call last)",
            "\u001b[0;32m<ipython-input-9-ddcaca21e64b>\u001b[0m in \u001b[0;36m<cell line: 0>\u001b[0;34m()\u001b[0m\n\u001b[1;32m      1\u001b[0m \u001b[0mclass_counts\u001b[0m \u001b[0;34m=\u001b[0m \u001b[0;34m{\u001b[0m\u001b[0;34m}\u001b[0m\u001b[0;34m\u001b[0m\u001b[0;34m\u001b[0m\u001b[0m\n\u001b[0;32m----> 2\u001b[0;31m \u001b[0;32mfor\u001b[0m \u001b[0mclass_name\u001b[0m \u001b[0;32min\u001b[0m \u001b[0mclasses\u001b[0m\u001b[0;34m[\u001b[0m\u001b[0;34m:\u001b[0m\u001b[0;34m]\u001b[0m\u001b[0;34m:\u001b[0m\u001b[0;34m\u001b[0m\u001b[0;34m\u001b[0m\u001b[0m\n\u001b[0m\u001b[1;32m      3\u001b[0m     \u001b[0mclass_dir\u001b[0m \u001b[0;34m=\u001b[0m \u001b[0mos\u001b[0m\u001b[0;34m.\u001b[0m\u001b[0mpath\u001b[0m\u001b[0;34m.\u001b[0m\u001b[0mjoin\u001b[0m\u001b[0;34m(\u001b[0m\u001b[0mvalidation_dir\u001b[0m\u001b[0;34m,\u001b[0m \u001b[0mclass_name\u001b[0m\u001b[0;34m)\u001b[0m\u001b[0;34m\u001b[0m\u001b[0;34m\u001b[0m\u001b[0m\n\u001b[1;32m      4\u001b[0m     \u001b[0mclass_counts\u001b[0m\u001b[0;34m[\u001b[0m\u001b[0mclass_name\u001b[0m\u001b[0;34m]\u001b[0m \u001b[0;34m=\u001b[0m \u001b[0mlen\u001b[0m\u001b[0;34m(\u001b[0m\u001b[0mos\u001b[0m\u001b[0;34m.\u001b[0m\u001b[0mlistdir\u001b[0m\u001b[0;34m(\u001b[0m\u001b[0mclass_dir\u001b[0m\u001b[0;34m)\u001b[0m\u001b[0;34m)\u001b[0m\u001b[0;34m\u001b[0m\u001b[0;34m\u001b[0m\u001b[0m\n\u001b[1;32m      5\u001b[0m \u001b[0;34m\u001b[0m\u001b[0m\n",
            "\u001b[0;31mNameError\u001b[0m: name 'classes' is not defined"
          ]
        }
      ]
    },
    {
      "cell_type": "markdown",
      "source": [
        "# Define dataloader and data transformation via torchvision"
      ],
      "metadata": {
        "id": "Iteavzw5V_CS"
      }
    },
    {
      "cell_type": "code",
      "source": [
        "BATCH_SIZE = 16\n",
        "LEARNING_RATE = 0.00255\n",
        "EPOCHES = 30\n",
        "THRESHOLD = 0.4"
      ],
      "metadata": {
        "id": "rbpKkNuvyNgZ"
      },
      "execution_count": null,
      "outputs": []
    },
    {
      "cell_type": "code",
      "source": [
        "import torch\n",
        "import torchvision\n",
        "from torchvision import datasets, transforms\n",
        "import torch.nn.functional as F\n",
        "from typing import Any, Callable, cast, Dict, List, Optional, Tuple, Union\n",
        "\n",
        "class DatasetImageCustom(datasets.DatasetFolder):\n",
        "    def __init__(\n",
        "        self,\n",
        "        root: str,\n",
        "        transform: Optional[Callable] = None,\n",
        "        target_transform: Optional[Callable] = None,\n",
        "        loader: Callable[[str], Any] = datasets.folder.default_loader,\n",
        "        is_valid_file: Optional[Callable[[str], bool]] = None,\n",
        "        allow_empty: bool = False,\n",
        "    ):\n",
        "        super().__init__(\n",
        "            root,\n",
        "            loader,\n",
        "            datasets.folder.IMG_EXTENSIONS,\n",
        "            transform=transform,\n",
        "            target_transform=target_transform,\n",
        "            is_valid_file=is_valid_file,\n",
        "            allow_empty=allow_empty,\n",
        "        )\n",
        "        self.imgs = self.samples\n",
        "\n",
        "    def __getitem__(self, index: int) -> Tuple[Any, Any]:\n",
        "        path, target = self.samples[index]\n",
        "        sample = self.loader(path)\n",
        "        # Extract the filename from the path\n",
        "        path = self.samples[index][0]\n",
        "        filename = os.path.basename(path)\n",
        "        if self.transform is not None:\n",
        "            sample = self.transform(sample)\n",
        "        if self.target_transform is not None:\n",
        "            target = self.target_transform(target)\n",
        "\n",
        "        return sample, target, filename"
      ],
      "metadata": {
        "id": "Fufy8aN2KAHW"
      },
      "execution_count": null,
      "outputs": []
    },
    {
      "cell_type": "code",
      "source": [
        "traindir = \"/content/data/training\"\n",
        "testdir = \"/content/data/validation\"\n",
        "\n",
        "#transformations\n",
        "train_transforms = transforms.Compose([transforms.Resize((1024,768)),\n",
        "                                       transforms.ToTensor(),\n",
        "                                       torchvision.transforms.Normalize(\n",
        "                                           mean=[0.485, 0.456, 0.406],\n",
        "                                           std=[0.229, 0.224, 0.225],\n",
        "    ),\n",
        "                                       ])\n",
        "test_transforms = transforms.Compose([transforms.Resize((1024,768)),\n",
        "                                      transforms.ToTensor(),\n",
        "                                      torchvision.transforms.Normalize(\n",
        "                                          mean=[0.485, 0.456, 0.406],\n",
        "                                          std=[0.229, 0.224, 0.225],\n",
        "    ),\n",
        "                                      ])\n",
        "\n",
        "#datasets\n",
        "train_data = DatasetImageCustom(traindir,transform=train_transforms)\n",
        "test_data = DatasetImageCustom(testdir,transform=test_transforms)\n",
        "\n",
        "#dataloader\n",
        "trainloader = torch.utils.data.DataLoader(train_data, shuffle = True, batch_size=BATCH_SIZE)\n",
        "testloader = torch.utils.data.DataLoader(test_data, shuffle = True, batch_size=BATCH_SIZE)"
      ],
      "metadata": {
        "id": "NOYb0iEhV9yE"
      },
      "execution_count": null,
      "outputs": []
    },
    {
      "cell_type": "markdown",
      "source": [
        "# Define model and trainer"
      ],
      "metadata": {
        "id": "3OOldmC-W36j"
      }
    },
    {
      "cell_type": "code",
      "source": [
        "class ModelWithSigmoid(nn.Module):\n",
        "    def __init__(self, model, labels):\n",
        "        super(ModelWithSigmoid, self).__init__()\n",
        "        self.model = model\n",
        "        self.sigmoid = nn.Sigmoid()  # Apply softmax along the class dimension\n",
        "\n",
        "    def forward(self, x):\n",
        "        x = self.model(x)\n",
        "        x = self.sigmoid(x)\n",
        "        return x"
      ],
      "metadata": {
        "id": "TCTfNSo43BQf"
      },
      "execution_count": null,
      "outputs": []
    },
    {
      "cell_type": "code",
      "source": [
        "def predict_with_softmax(model, input_tensor):\n",
        "    \"\"\"\n",
        "    Predicts the class with the highest probability after applying softmax.\n",
        "\n",
        "    Args:\n",
        "        model: The PyTorch model.\n",
        "        input_tensor: The input tensor.\n",
        "\n",
        "    Returns:\n",
        "        The predicted class (int) and the probabilities (tensor).\n",
        "    \"\"\"\n",
        "    # Ensure the model is in evaluation mode\n",
        "    model.eval()\n",
        "    with torch.no_grad():\n",
        "        # Move input tensor to the same device as the model\n",
        "        input_tensor = input_tensor.to(next(model.parameters()).device)\n",
        "\n",
        "        # Perform the prediction\n",
        "        output = model(input_tensor)\n",
        "        predictions = (outputs > 0.5).cpu().numpy().flatten()\n",
        "\n",
        "        class_names = [\"CURVATURA\", \"INCLINACIÓN\", \"RUIDO\", \"ORIGINAL\"]\n",
        "        predicted_classes = [class_names[i] for i, pred in enumerate(predictions) if pred]\n",
        "\n",
        "        if len(predicted_classes) > 1 and \"ORIGINAL\" not in predicted_classes:\n",
        "          predicted_classes = [\"TODO\"]\n",
        "\n",
        "        # Return probabilities\n",
        "        probabilities = output.cpu()\n",
        "\n",
        "        return predicted_classes"
      ],
      "metadata": {
        "id": "VrvS_1163ouf"
      },
      "execution_count": null,
      "outputs": []
    },
    {
      "cell_type": "markdown",
      "source": [
        "# Model definition"
      ],
      "metadata": {
        "id": "yRFcuS0qrfGI"
      }
    },
    {
      "cell_type": "code",
      "source": [
        "# Function to count the total number of parameters\n",
        "def count_parameters(model):\n",
        "    total_params = sum(p.numel() for p in model.parameters())\n",
        "    trainable_params = sum(p.numel() for p in model.parameters() if p.requires_grad)\n",
        "    return total_params, trainable_params"
      ],
      "metadata": {
        "id": "jmEjBwu0rhtq"
      },
      "execution_count": null,
      "outputs": []
    },
    {
      "cell_type": "markdown",
      "source": [
        "# Include fined labels for todo"
      ],
      "metadata": {
        "id": "2UoISb9AIh0V"
      }
    },
    {
      "cell_type": "code",
      "source": [
        "def get_todo_labels(image_sample_name):\n",
        "    reverse_mapping_classes = ['CURVATURA', 'INCLINACION', 'ORIGINAL', 'RUIDO']\n",
        "    one_hot_labels = [0, 0, 0 ,0]\n",
        "    for index, label in enumerate(reverse_mapping_classes):\n",
        "        if label in image_sample_name:\n",
        "            one_hot_labels[index] = 1\n",
        "\n",
        "    return one_hot_labels"
      ],
      "metadata": {
        "id": "gmjMn0MWOIB8"
      },
      "execution_count": null,
      "outputs": []
    },
    {
      "cell_type": "code",
      "source": [
        "def make_train_step(model, optimizer, loss_fn):\n",
        "    def train_step(x, y, image_sample_name):\n",
        "        yhat = model(x)\n",
        "        #y=y.squeeze(1).to(torch.int64)\n",
        "        model.train()\n",
        "        label_one_hot=[]\n",
        "        for index, label in enumerate(y):\n",
        "            if label < 4:\n",
        "                label_one_hot.append(F.one_hot(label, num_classes=4).float().cpu().numpy().tolist()[0])\n",
        "            else:\n",
        "                encoded_label = get_todo_labels(image_sample_name[index])\n",
        "                label_one_hot.append(encoded_label) # [1,1,0,1] for all\n",
        "\n",
        "        label_one_hot = torch.tensor(label_one_hot).to(device)\n",
        "        loss = loss_fn(yhat,label_one_hot)\n",
        "        loss.backward()\n",
        "        optimizer.step()\n",
        "        optimizer.zero_grad()\n",
        "        return loss\n",
        "\n",
        "    return train_step\n",
        "\n",
        "device = \"cuda\" if torch.cuda.is_available() else \"cpu\"\n",
        "model_base = models.resnet18(pretrained=True)\n",
        "\n",
        "#freeze all params\n",
        "#for params in model_base.parameters():\n",
        "    #params.requires_grad_ = False\n",
        "\n",
        "#add a new final layer\n",
        "nr_filters = model_base.fc.in_features  #number of input features of last layer\n",
        "print(\"features space out: \", nr_filters)\n",
        "\n",
        "# Replace the final fully connected layer with a new one\n",
        "model_base.fc = nn.Linear(nr_filters, 4)\n",
        "\n",
        "model = ModelWithSigmoid(model_base, 4)#\n",
        "\n",
        "model = model.to(device)\n",
        "\n",
        "#loss\n",
        "loss_fn = nn.BCELoss()\n",
        "\n",
        "for name, param in model.named_parameters():\n",
        "    if not any(layer_name in name for layer_name in ['model.fc', 'fc1', 'fc2']):\n",
        "        param.requires_grad = False\n",
        "    else:\n",
        "      print(name, 'is not freeze')\n",
        "\n",
        "# Count the parameters\n",
        "total_params, trainable_params = count_parameters(model)\n",
        "\n",
        "print(f\"Total parameters: {total_params}\")\n",
        "print(f\"Trainable parameters: {trainable_params}\")\n",
        "\n",
        "#optimizer\n",
        "optimizer = torch.optim.Adam(model.parameters(), lr=LEARNING_RATE)\n",
        "\n",
        "#train step\n",
        "train_step = make_train_step(model, optimizer, loss_fn)"
      ],
      "metadata": {
        "id": "qPgpxyJ_W3iE",
        "colab": {
          "base_uri": "https://localhost:8080/"
        },
        "outputId": "d0b7770a-6827-4bdf-d1ff-deb7edd67c30"
      },
      "execution_count": null,
      "outputs": [
        {
          "output_type": "stream",
          "name": "stderr",
          "text": [
            "/usr/local/lib/python3.11/dist-packages/torchvision/models/_utils.py:208: UserWarning: The parameter 'pretrained' is deprecated since 0.13 and may be removed in the future, please use 'weights' instead.\n",
            "  warnings.warn(\n",
            "/usr/local/lib/python3.11/dist-packages/torchvision/models/_utils.py:223: UserWarning: Arguments other than a weight enum or `None` for 'weights' are deprecated since 0.13 and may be removed in the future. The current behavior is equivalent to passing `weights=ResNet18_Weights.IMAGENET1K_V1`. You can also use `weights=ResNet18_Weights.DEFAULT` to get the most up-to-date weights.\n",
            "  warnings.warn(msg)\n",
            "Downloading: \"https://download.pytorch.org/models/resnet18-f37072fd.pth\" to /root/.cache/torch/hub/checkpoints/resnet18-f37072fd.pth\n",
            "100%|██████████| 44.7M/44.7M [00:00<00:00, 197MB/s]\n"
          ]
        },
        {
          "output_type": "stream",
          "name": "stdout",
          "text": [
            "features space out:  512\n",
            "model.fc.weight is not freeze\n",
            "model.fc.bias is not freeze\n",
            "Total parameters: 11178564\n",
            "Trainable parameters: 2052\n"
          ]
        }
      ]
    },
    {
      "cell_type": "markdown",
      "source": [
        "# Train model with early stoping"
      ],
      "metadata": {
        "id": "pg1MEl3GYtp3"
      }
    },
    {
      "cell_type": "markdown",
      "source": [
        "# Load model for continue training"
      ],
      "metadata": {
        "id": "XUikoBw_RQnM"
      }
    },
    {
      "cell_type": "code",
      "source": [
        "model_path = \"/content/drive/MyDrive/model_weights_model_sigmoid_todo_new.pth\"\n",
        "model.load_state_dict(torch.load(model_path))"
      ],
      "metadata": {
        "colab": {
          "base_uri": "https://localhost:8080/"
        },
        "id": "FY-MV92IRKME",
        "outputId": "8af4eb04-fe00-4dfb-98c5-63c80e5e91bc"
      },
      "execution_count": null,
      "outputs": [
        {
          "output_type": "execute_result",
          "data": {
            "text/plain": [
              "<All keys matched successfully>"
            ]
          },
          "metadata": {},
          "execution_count": 18
        }
      ]
    },
    {
      "cell_type": "code",
      "source": [
        "losses = []\n",
        "val_losses = []\n",
        "\n",
        "epoch_train_losses = []\n",
        "epoch_test_losses = []\n",
        "\n",
        "n_epochs = EPOCHES\n",
        "early_stopping_tolerance = 3\n",
        "early_stopping_threshold = 0.03\n",
        "\n",
        "for epoch in range(n_epochs):\n",
        "    epoch_loss = 0\n",
        "    for i ,data in tqdm(enumerate(trainloader), total = len(trainloader)): #iterate ove batches\n",
        "        x_batch , y_batch, image_sample_name = data\n",
        "        x_batch = x_batch.to(device) #move to gpu\n",
        "        y_batch = y_batch.unsqueeze(1) #convert target to same nn output shape\n",
        "        y_batch = y_batch.to(device) #move to gpu\n",
        "\n",
        "\n",
        "        loss = train_step(x_batch, y_batch, image_sample_name)\n",
        "        epoch_loss += loss/len(trainloader)\n",
        "        losses.append(loss)\n",
        "\n",
        "    epoch_train_losses.append(epoch_loss)\n",
        "    print('\\nEpoch : {}, train loss : {}'.format(epoch+1,epoch_loss))\n",
        "\n",
        "    #validation doesnt requires gradient\n",
        "    with torch.no_grad():\n",
        "        cum_loss = 0\n",
        "        for x_batch, y_batch, image_sample_name in testloader:\n",
        "            x_batch = x_batch.to(device)\n",
        "            y_batch = y_batch.unsqueeze(1) #convert target to same nn output shape\n",
        "            y_batch = y_batch.to(device)\n",
        "\n",
        "            #model to eval mode\n",
        "            model.eval()\n",
        "\n",
        "            yhat = model(x_batch)\n",
        "            #y_batch=y_batch.squeeze(1).to(torch.int64)\n",
        "\n",
        "            label_one_hot=[]\n",
        "            for index, label in enumerate(y_batch):\n",
        "                if label < 4:\n",
        "                    label_one_hot.append(F.one_hot(label, num_classes=4).float().cpu().numpy().tolist()[0])\n",
        "                else:\n",
        "                    encoded_label = get_todo_labels(image_sample_name[index])\n",
        "                    label_one_hot.append(encoded_label) # [1,1,0,1] for all\n",
        "\n",
        "            label_one_hot = torch.tensor(label_one_hot).to(device)\n",
        "            val_loss = loss_fn(yhat,label_one_hot)\n",
        "            cum_loss += loss/len(testloader)\n",
        "            val_losses.append(val_loss.item())\n",
        "\n",
        "\n",
        "        epoch_test_losses.append(cum_loss)\n",
        "        print('Epoch : {}, val loss : {}'.format(epoch+1,cum_loss))\n",
        "\n",
        "        best_loss = min(epoch_test_losses)\n",
        "\n",
        "        #save best model\n",
        "        if cum_loss <= best_loss:\n",
        "            best_model_wts = model.state_dict()\n",
        "\n",
        "        #early stopping\n",
        "        early_stopping_counter = 0\n",
        "        if cum_loss > best_loss:\n",
        "            early_stopping_counter +=1\n",
        "\n",
        "        if (early_stopping_counter == early_stopping_tolerance) or (best_loss <= early_stopping_threshold):\n",
        "            print(\"/nTerminating: early stopping\")\n",
        "            break #terminate training\n",
        "\n",
        "#load best model\n",
        "model.load_state_dict(best_model_wts)"
      ],
      "metadata": {
        "colab": {
          "base_uri": "https://localhost:8080/"
        },
        "id": "UYcA7pn7XmvG",
        "outputId": "d3a9dfed-5fc7-428f-c10c-364f041e3339"
      },
      "execution_count": null,
      "outputs": [
        {
          "output_type": "stream",
          "name": "stderr",
          "text": [
            "100%|██████████| 31/31 [02:00<00:00,  3.89s/it]\n"
          ]
        },
        {
          "output_type": "stream",
          "name": "stdout",
          "text": [
            "\n",
            "Epoch : 1, train loss : 0.6232489347457886\n",
            "Epoch : 1, val loss : 0.5047517418861389\n"
          ]
        },
        {
          "output_type": "stream",
          "name": "stderr",
          "text": [
            "100%|██████████| 31/31 [01:53<00:00,  3.66s/it]\n"
          ]
        },
        {
          "output_type": "stream",
          "name": "stdout",
          "text": [
            "\n",
            "Epoch : 2, train loss : 0.5677459239959717\n",
            "Epoch : 2, val loss : 0.49907684326171875\n"
          ]
        },
        {
          "output_type": "stream",
          "name": "stderr",
          "text": [
            "100%|██████████| 31/31 [01:54<00:00,  3.70s/it]\n"
          ]
        },
        {
          "output_type": "stream",
          "name": "stdout",
          "text": [
            "\n",
            "Epoch : 3, train loss : 0.565837562084198\n",
            "Epoch : 3, val loss : 0.6007230877876282\n"
          ]
        },
        {
          "output_type": "stream",
          "name": "stderr",
          "text": [
            "100%|██████████| 31/31 [01:52<00:00,  3.62s/it]\n"
          ]
        },
        {
          "output_type": "stream",
          "name": "stdout",
          "text": [
            "\n",
            "Epoch : 4, train loss : 0.5521284937858582\n",
            "Epoch : 4, val loss : 0.5652349591255188\n"
          ]
        },
        {
          "output_type": "stream",
          "name": "stderr",
          "text": [
            "100%|██████████| 31/31 [01:50<00:00,  3.56s/it]\n"
          ]
        },
        {
          "output_type": "stream",
          "name": "stdout",
          "text": [
            "\n",
            "Epoch : 5, train loss : 0.517787754535675\n",
            "Epoch : 5, val loss : 0.48225468397140503\n"
          ]
        },
        {
          "output_type": "stream",
          "name": "stderr",
          "text": [
            "100%|██████████| 31/31 [01:47<00:00,  3.48s/it]\n"
          ]
        },
        {
          "output_type": "stream",
          "name": "stdout",
          "text": [
            "\n",
            "Epoch : 6, train loss : 0.5198029279708862\n",
            "Epoch : 6, val loss : 0.5152209401130676\n"
          ]
        },
        {
          "output_type": "stream",
          "name": "stderr",
          "text": [
            "100%|██████████| 31/31 [01:49<00:00,  3.53s/it]\n"
          ]
        },
        {
          "output_type": "stream",
          "name": "stdout",
          "text": [
            "\n",
            "Epoch : 7, train loss : 0.4975379407405853\n",
            "Epoch : 7, val loss : 0.4586639404296875\n"
          ]
        },
        {
          "output_type": "stream",
          "name": "stderr",
          "text": [
            "100%|██████████| 31/31 [01:49<00:00,  3.52s/it]\n"
          ]
        },
        {
          "output_type": "stream",
          "name": "stdout",
          "text": [
            "\n",
            "Epoch : 8, train loss : 0.5094285607337952\n",
            "Epoch : 8, val loss : 0.43973585963249207\n"
          ]
        },
        {
          "output_type": "stream",
          "name": "stderr",
          "text": [
            "100%|██████████| 31/31 [01:49<00:00,  3.54s/it]\n"
          ]
        },
        {
          "output_type": "stream",
          "name": "stdout",
          "text": [
            "\n",
            "Epoch : 9, train loss : 0.5029657483100891\n",
            "Epoch : 9, val loss : 0.6682997345924377\n"
          ]
        },
        {
          "output_type": "stream",
          "name": "stderr",
          "text": [
            "100%|██████████| 31/31 [01:44<00:00,  3.38s/it]\n"
          ]
        },
        {
          "output_type": "stream",
          "name": "stdout",
          "text": [
            "\n",
            "Epoch : 10, train loss : 0.503247082233429\n",
            "Epoch : 10, val loss : 0.4657452702522278\n"
          ]
        },
        {
          "output_type": "stream",
          "name": "stderr",
          "text": [
            "100%|██████████| 31/31 [01:46<00:00,  3.44s/it]\n"
          ]
        },
        {
          "output_type": "stream",
          "name": "stdout",
          "text": [
            "\n",
            "Epoch : 11, train loss : 0.4985705614089966\n",
            "Epoch : 11, val loss : 0.4926537871360779\n"
          ]
        },
        {
          "output_type": "stream",
          "name": "stderr",
          "text": [
            "100%|██████████| 31/31 [01:46<00:00,  3.42s/it]\n"
          ]
        },
        {
          "output_type": "stream",
          "name": "stdout",
          "text": [
            "\n",
            "Epoch : 12, train loss : 0.5026935935020447\n",
            "Epoch : 12, val loss : 0.5441027283668518\n"
          ]
        },
        {
          "output_type": "stream",
          "name": "stderr",
          "text": [
            "100%|██████████| 31/31 [01:47<00:00,  3.45s/it]\n"
          ]
        },
        {
          "output_type": "stream",
          "name": "stdout",
          "text": [
            "\n",
            "Epoch : 13, train loss : 0.49856942892074585\n",
            "Epoch : 13, val loss : 0.6187193393707275\n"
          ]
        },
        {
          "output_type": "stream",
          "name": "stderr",
          "text": [
            "100%|██████████| 31/31 [01:46<00:00,  3.42s/it]\n"
          ]
        },
        {
          "output_type": "stream",
          "name": "stdout",
          "text": [
            "\n",
            "Epoch : 14, train loss : 0.49592453241348267\n",
            "Epoch : 14, val loss : 0.5937740206718445\n"
          ]
        },
        {
          "output_type": "stream",
          "name": "stderr",
          "text": [
            "100%|██████████| 31/31 [01:47<00:00,  3.48s/it]\n"
          ]
        },
        {
          "output_type": "stream",
          "name": "stdout",
          "text": [
            "\n",
            "Epoch : 15, train loss : 0.480610728263855\n",
            "Epoch : 15, val loss : 0.4930431544780731\n"
          ]
        },
        {
          "output_type": "stream",
          "name": "stderr",
          "text": [
            "100%|██████████| 31/31 [01:43<00:00,  3.35s/it]\n"
          ]
        },
        {
          "output_type": "stream",
          "name": "stdout",
          "text": [
            "\n",
            "Epoch : 16, train loss : 0.4589417278766632\n",
            "Epoch : 16, val loss : 0.4244305491447449\n"
          ]
        },
        {
          "output_type": "stream",
          "name": "stderr",
          "text": [
            "100%|██████████| 31/31 [01:43<00:00,  3.34s/it]\n"
          ]
        },
        {
          "output_type": "stream",
          "name": "stdout",
          "text": [
            "\n",
            "Epoch : 17, train loss : 0.4606975317001343\n",
            "Epoch : 17, val loss : 0.4480033218860626\n"
          ]
        },
        {
          "output_type": "stream",
          "name": "stderr",
          "text": [
            "100%|██████████| 31/31 [01:41<00:00,  3.27s/it]\n"
          ]
        },
        {
          "output_type": "stream",
          "name": "stdout",
          "text": [
            "\n",
            "Epoch : 18, train loss : 0.48057734966278076\n",
            "Epoch : 18, val loss : 0.46609216928482056\n"
          ]
        },
        {
          "output_type": "stream",
          "name": "stderr",
          "text": [
            "100%|██████████| 31/31 [01:43<00:00,  3.35s/it]\n"
          ]
        },
        {
          "output_type": "stream",
          "name": "stdout",
          "text": [
            "\n",
            "Epoch : 19, train loss : 0.4678558111190796\n",
            "Epoch : 19, val loss : 0.4168112576007843\n"
          ]
        },
        {
          "output_type": "stream",
          "name": "stderr",
          "text": [
            "100%|██████████| 31/31 [01:42<00:00,  3.31s/it]\n"
          ]
        },
        {
          "output_type": "stream",
          "name": "stdout",
          "text": [
            "\n",
            "Epoch : 20, train loss : 0.4519489109516144\n",
            "Epoch : 20, val loss : 0.46063873171806335\n"
          ]
        },
        {
          "output_type": "stream",
          "name": "stderr",
          "text": [
            "100%|██████████| 31/31 [01:44<00:00,  3.38s/it]\n"
          ]
        },
        {
          "output_type": "stream",
          "name": "stdout",
          "text": [
            "\n",
            "Epoch : 21, train loss : 0.4630563259124756\n",
            "Epoch : 21, val loss : 0.5430572628974915\n"
          ]
        },
        {
          "output_type": "stream",
          "name": "stderr",
          "text": [
            "100%|██████████| 31/31 [01:45<00:00,  3.39s/it]\n"
          ]
        },
        {
          "output_type": "stream",
          "name": "stdout",
          "text": [
            "\n",
            "Epoch : 22, train loss : 0.4670768976211548\n",
            "Epoch : 22, val loss : 0.5122881531715393\n"
          ]
        },
        {
          "output_type": "stream",
          "name": "stderr",
          "text": [
            "100%|██████████| 31/31 [01:45<00:00,  3.40s/it]\n"
          ]
        },
        {
          "output_type": "stream",
          "name": "stdout",
          "text": [
            "\n",
            "Epoch : 23, train loss : 0.45934346318244934\n",
            "Epoch : 23, val loss : 0.4049099087715149\n"
          ]
        },
        {
          "output_type": "stream",
          "name": "stderr",
          "text": [
            "100%|██████████| 31/31 [01:44<00:00,  3.38s/it]\n"
          ]
        },
        {
          "output_type": "stream",
          "name": "stdout",
          "text": [
            "\n",
            "Epoch : 24, train loss : 0.4392780065536499\n",
            "Epoch : 24, val loss : 0.4374101758003235\n"
          ]
        },
        {
          "output_type": "stream",
          "name": "stderr",
          "text": [
            "100%|██████████| 31/31 [01:46<00:00,  3.44s/it]\n"
          ]
        },
        {
          "output_type": "stream",
          "name": "stdout",
          "text": [
            "\n",
            "Epoch : 25, train loss : 0.44660624861717224\n",
            "Epoch : 25, val loss : 0.48080629110336304\n"
          ]
        },
        {
          "output_type": "stream",
          "name": "stderr",
          "text": [
            "100%|██████████| 31/31 [01:44<00:00,  3.37s/it]\n"
          ]
        },
        {
          "output_type": "stream",
          "name": "stdout",
          "text": [
            "\n",
            "Epoch : 26, train loss : 0.46786513924598694\n",
            "Epoch : 26, val loss : 0.5181836485862732\n"
          ]
        },
        {
          "output_type": "stream",
          "name": "stderr",
          "text": [
            "100%|██████████| 31/31 [01:44<00:00,  3.37s/it]\n"
          ]
        },
        {
          "output_type": "stream",
          "name": "stdout",
          "text": [
            "\n",
            "Epoch : 27, train loss : 0.464345782995224\n",
            "Epoch : 27, val loss : 0.5432260632514954\n"
          ]
        },
        {
          "output_type": "stream",
          "name": "stderr",
          "text": [
            "100%|██████████| 31/31 [01:44<00:00,  3.39s/it]\n"
          ]
        },
        {
          "output_type": "stream",
          "name": "stdout",
          "text": [
            "\n",
            "Epoch : 28, train loss : 0.44599294662475586\n",
            "Epoch : 28, val loss : 0.3825506865978241\n"
          ]
        },
        {
          "output_type": "stream",
          "name": "stderr",
          "text": [
            "100%|██████████| 31/31 [01:44<00:00,  3.38s/it]\n"
          ]
        },
        {
          "output_type": "stream",
          "name": "stdout",
          "text": [
            "\n",
            "Epoch : 29, train loss : 0.4360549747943878\n",
            "Epoch : 29, val loss : 0.2991027534008026\n"
          ]
        },
        {
          "output_type": "stream",
          "name": "stderr",
          "text": [
            "100%|██████████| 31/31 [01:45<00:00,  3.41s/it]\n"
          ]
        },
        {
          "output_type": "stream",
          "name": "stdout",
          "text": [
            "\n",
            "Epoch : 30, train loss : 0.4297463893890381\n",
            "Epoch : 30, val loss : 0.5632227063179016\n"
          ]
        },
        {
          "output_type": "execute_result",
          "data": {
            "text/plain": [
              "<All keys matched successfully>"
            ]
          },
          "metadata": {},
          "execution_count": 18
        }
      ]
    },
    {
      "cell_type": "markdown",
      "source": [
        "#Model evaluation"
      ],
      "metadata": {
        "id": "pDSGuEodYEd4"
      }
    },
    {
      "cell_type": "code",
      "source": [
        "t_loss=[val.cpu().detach().numpy() for val in epoch_train_losses]\n",
        "v_loss=[val.cpu().numpy() for val in epoch_test_losses]\n",
        "plt.figure(figsize=(10, 5))\n",
        "plt.title(\"Training and Validation Loss\")\n",
        "plt.plot(t_loss, label=\"train\")\n",
        "plt.plot(v_loss, label=\"validation\")\n",
        "plt.xlabel(\"Epoch\")\n",
        "plt.ylabel(\"Loss\")\n",
        "plt.legend()\n",
        "plt.show()"
      ],
      "metadata": {
        "id": "CRv0CE9PzQhf",
        "colab": {
          "base_uri": "https://localhost:8080/",
          "height": 487
        },
        "outputId": "0e8476a4-bb79-4689-9896-844ef6041fc2"
      },
      "execution_count": null,
      "outputs": [
        {
          "output_type": "display_data",
          "data": {
            "text/plain": [
              "<Figure size 1000x500 with 1 Axes>"
            ],
            "image/png": "[encoded data removed]"
          },
          "metadata": {}
        }
      ]
    },
    {
      "cell_type": "code",
      "source": [
        "def predict_with_thresholds(model, dataloader, device, thresholds):\n",
        "    \"\"\"\n",
        "    Predicts class labels using custom thresholds for each class.\n",
        "\n",
        "    Args:\n",
        "        model: The PyTorch model.\n",
        "        dataloader: The DataLoader for the test data.\n",
        "        device: The device to run the model on (e.g., 'cuda' or 'cpu').\n",
        "        thresholds: A list of thresholds, one for each class.\n",
        "\n",
        "    Returns:\n",
        "        A list of predicted labels and a list of true labels.\n",
        "    \"\"\"\n",
        "    y_pred = []\n",
        "    y_true = []\n",
        "\n",
        "    todo_performance_analize = []\n",
        "\n",
        "    with torch.no_grad():\n",
        "        for x_batch, y_batch, image_sample_name in dataloader:\n",
        "            x_batch = x_batch.to(device)\n",
        "            y_batch = y_batch.unsqueeze(1).float()  # Convert target to same nn output shape\n",
        "            y_batch = y_batch.to(device)\n",
        "            model.eval()\n",
        "            yhat = model(x_batch)\n",
        "            predictions = yhat.cpu().numpy()\n",
        "\n",
        "            for i in range(predictions.shape[0]):\n",
        "                predicted_classes = []\n",
        "                predicted_classes_ponderations = []\n",
        "                for j in range(predictions.shape[1]):\n",
        "                    if predictions[i][j] > thresholds[j]:\n",
        "                        predicted_classes.append(j)\n",
        "                        predicted_classes_ponderations.append(predictions[i][j])\n",
        "                if len(predicted_classes) == 0:\n",
        "                        y_pred.append(2)\n",
        "                elif len(predicted_classes) == 1:\n",
        "                    y_pred.append(predicted_classes[0])\n",
        "\n",
        "                elif len(predicted_classes) > 1 and 2 not in predicted_classes:\n",
        "                    predicted_classes_ponderations = np.array(predicted_classes_ponderations)\n",
        "                    score = np.sum(predicted_classes_ponderations)\n",
        "                    y_pred.append(4)\n",
        "                else:\n",
        "                    max_index = np.argmax(predictions[i])\n",
        "                    y_pred.append(max_index)\n",
        "\n",
        "            y_true.extend(y_batch.cpu().numpy().flatten())\n",
        "\n",
        "    return y_pred, y_true, todo_performance_analize\n",
        "\n",
        "thresholds =  [0.5, 0.5, 0.5, 0.5]#[0.45, 0.25, 0.35, 0.55] # 0.45, 0.25, 0.35, 0.55\n",
        "y_pred, y_true, todo_performance_analize = predict_with_thresholds(model, testloader, device, thresholds)\n",
        "\n",
        "print(classification_report(y_true, y_pred,digits=4, target_names=test_data.classes))"
      ],
      "metadata": {
        "id": "21Sykwbdi3j7",
        "colab": {
          "base_uri": "https://localhost:8080/"
        },
        "outputId": "85e89c09-63bc-4594-902f-4e23aafa0a04"
      },
      "execution_count": null,
      "outputs": [
        {
          "output_type": "stream",
          "name": "stdout",
          "text": [
            "              precision    recall  f1-score   support\n",
            "\n",
            "   CURVATURA     0.6667    0.5217    0.5854        23\n",
            " INCLINACION     0.5000    0.0952    0.1600        21\n",
            "    ORIGINAL     0.4333    0.6500    0.5200        20\n",
            "       RUIDO     0.7368    0.5385    0.6222        26\n",
            "        TODO     0.5000    0.8065    0.6173        31\n",
            "\n",
            "    accuracy                         0.5455       121\n",
            "   macro avg     0.5674    0.5224    0.5010       121\n",
            "weighted avg     0.5716    0.5455    0.5168       121\n",
            "\n"
          ]
        }
      ]
    },
    {
      "cell_type": "code",
      "source": [
        "from sklearn.metrics import confusion_matrix\n",
        "import seaborn as sns\n",
        "import matplotlib.pyplot as plt\n",
        "\n",
        "cm = confusion_matrix(y_true, y_pred)\n",
        "\n",
        "plt.figure(figsize=(10, 8))\n",
        "sns.heatmap(cm, annot=True, fmt=\"d\", cmap=\"Blues\",\n",
        "            xticklabels=[\"CURVATURE\",\"SKEW\", \"ORIGINAL\", \"NOISE\", \"ALL\"], yticklabels=[\"CURVATURE\",\"SKEW\", \"ORIGINAL\", \"NOISE\", \"ALL\"])\n",
        "plt.xlabel(\"Predicted labels\")\n",
        "plt.ylabel(\"True labels\")\n",
        "plt.title(\"Confusion matrix\")\n",
        "plt.savefig('/content/CM_trained_model_resnet18_base_threshold.pdf', format='pdf')"
      ],
      "metadata": {
        "colab": {
          "base_uri": "https://localhost:8080/",
          "height": 718
        },
        "id": "_C_EbFCeK1rE",
        "outputId": "a7eaaccb-bf0c-4e54-df9e-376722a5dd04"
      },
      "execution_count": null,
      "outputs": [
        {
          "output_type": "display_data",
          "data": {
            "text/plain": [
              "<Figure size 1000x800 with 2 Axes>"
            ],
            "image/png": "[encoded data removed]"
          },
          "metadata": {}
        }
      ]
    },
    {
      "cell_type": "code",
      "source": [
        "# prompt: create all measures f1, macro F, roc\n",
        "\n",
        "from sklearn.metrics import f1_score, precision_score, recall_score, roc_auc_score, classification_report\n",
        "from sklearn.preprocessing import label_binarize\n",
        "import numpy as np\n",
        "\n",
        "# ... (your existing code) ...\n",
        "\n",
        "thresholds =  [0.7602731599715904, 0.28838335905834345, 0.3224424159129208, 0.5297425940588911] #[0.45, 0.25, 0.35, 0.55] # 0.45, 0.25, 0.35, 0.55\n",
        "y_pred, y_true, todo_performance_analize = predict_with_thresholds(model, testloader, device, thresholds)\n",
        "\n",
        "# Calculate F1-score (macro average)\n",
        "f1_macro = f1_score(y_true, y_pred, average='macro')\n",
        "print(f\"Macro F1-score: {f1_macro}\")\n",
        "\n",
        "# Calculate precision and recall\n",
        "precision = precision_score(y_true, y_pred, average='macro')\n",
        "recall = recall_score(y_true, y_pred, average='macro')\n",
        "print(f\"Macro Precision: {precision}\")\n",
        "print(f\"Macro Recall: {recall}\")\n",
        "\n",
        "# Classification report\n",
        "print(classification_report(y_true, y_pred, digits=4, target_names=test_data.classes))\n",
        "\n",
        "\n",
        "# Calculate ROC AUC score (requires probabilities, not just predictions)\n",
        "# Binarize the labels for ROC AUC calculation\n",
        "y_true_binarized = label_binarize(y_true, classes=np.unique(y_pred))\n",
        "\n",
        "# Assuming your model outputs probabilities\n",
        "y_prob = []\n",
        "with torch.no_grad():\n",
        "    for x_batch, y_batch, image_sample_name in testloader:\n",
        "        x_batch = x_batch.to(device)\n",
        "        model.eval()\n",
        "        yhat = model(x_batch)\n",
        "        y_prob.extend(yhat.cpu().numpy())\n",
        "y_prob = np.array(y_prob)\n",
        "\n",
        "# Calculate ROC AUC for each class\n",
        "roc_auc_scores = []\n",
        "n_classes = y_true_binarized.shape[1]\n",
        "for i in range(4):\n",
        "    roc_auc = roc_auc_score(y_true_binarized[:, i], y_prob[:, i])\n",
        "    roc_auc_scores.append(roc_auc)\n",
        "\n",
        "print(f\"ROC AUC scores for each class: {roc_auc_scores}\")\n",
        "\n",
        "# Calculate the macro average of the ROC AUC scores\n",
        "macro_roc_auc = np.mean(roc_auc_scores)\n",
        "print(f\"Macro-averaged ROC AUC: {macro_roc_auc}\")\n"
      ],
      "metadata": {
        "colab": {
          "base_uri": "https://localhost:8080/"
        },
        "id": "fiZ0rbPL4BtH",
        "outputId": "ccc1eba8-e7d6-4080-8212-b2bd68a7e4ee"
      },
      "execution_count": null,
      "outputs": [
        {
          "output_type": "stream",
          "name": "stdout",
          "text": [
            "Macro F1-score: 0.6175754077545792\n",
            "Macro Precision: 0.6402604802604802\n",
            "Macro Recall: 0.6209164187845814\n",
            "              precision    recall  f1-score   support\n",
            "\n",
            "   CURVATURA     0.8571    0.5217    0.6486        23\n",
            " INCLINACION     0.5000    0.5714    0.5333        21\n",
            "    ORIGINAL     0.5185    0.7000    0.5957        20\n",
            "       RUIDO     0.6333    0.7308    0.6786        26\n",
            "        TODO     0.6923    0.5806    0.6316        31\n",
            "\n",
            "    accuracy                         0.6198       121\n",
            "   macro avg     0.6403    0.6209    0.6176       121\n",
            "weighted avg     0.6489    0.6198    0.6219       121\n",
            "\n",
            "ROC AUC scores for each class: [np.float64(0.5403726708074534), np.float64(0.6021428571428571), np.float64(0.5985148514851485), np.float64(0.5989878542510122)]\n",
            "Macro-averaged ROC AUC: 0.5850045584216178\n"
          ]
        }
      ]
    },
    {
      "cell_type": "code",
      "source": [
        "# prompt: generate chart from ROC\n",
        "\n",
        "from sklearn.metrics import roc_curve, auc\n",
        "import matplotlib.pyplot as plt\n",
        "\n",
        "# Assuming y_true_binarized and y_prob are defined as in your previous code\n",
        "\n",
        "fpr = dict()\n",
        "tpr = dict()\n",
        "roc_auc = dict()\n",
        "n_classes = y_true_binarized.shape[1]\n",
        "\n",
        "for i in range(4):\n",
        "    fpr[i], tpr[i], _ = roc_curve(y_true_binarized[:, i], y_prob[:, i])\n",
        "    roc_auc[i] = auc(fpr[i], tpr[i])\n",
        "\n",
        "# Plot ROC curves for each class\n",
        "plt.figure(figsize=(10, 8))\n",
        "for i in range(4):\n",
        "    plt.plot(fpr[i], tpr[i], label=f'Class {test_data.classes[i]} (AUC = {roc_auc[i]:.2f})')\n",
        "\n",
        "plt.plot([0, 1], [0, 1], 'k--')  # Random classifier line\n",
        "plt.xlim([0.0, 1.0])\n",
        "plt.ylim([0.0, 1.05])\n",
        "plt.xlabel('False Positive Rate')\n",
        "plt.ylabel('True Positive Rate')\n",
        "plt.title('ROC Curves for Multi-class Classification')\n",
        "plt.legend(loc=\"lower right\")\n",
        "plt.show()\n"
      ],
      "metadata": {
        "colab": {
          "base_uri": "https://localhost:8080/",
          "height": 718
        },
        "id": "kQsbwBw0RXLs",
        "outputId": "56d99cfe-1f8b-4b53-b0ce-64f690442939"
      },
      "execution_count": null,
      "outputs": [
        {
          "output_type": "display_data",
          "data": {
            "text/plain": [
              "<Figure size 1000x800 with 1 Axes>"
            ],
            "image/png": "[encoded data removed]"
          },
          "metadata": {}
        }
      ]
    },
    {
      "cell_type": "code",
      "source": [
        "from sklearn.metrics import confusion_matrix\n",
        "import seaborn as sns\n",
        "import matplotlib.pyplot as plt\n",
        "\n",
        "cm = confusion_matrix(y_true, y_pred)\n",
        "\n",
        "plt.figure(figsize=(10, 8))\n",
        "sns.heatmap(cm, annot=True, fmt=\"d\", cmap=\"Blues\",\n",
        "            xticklabels=[\"CURVATURE\",\"SKEW\", \"ORIGINAL\", \"NOISE\", \"ALL\"], yticklabels=[\"CURVATURE\",\"SKEW\", \"ORIGINAL\", \"NOISE\", \"ALL\"])\n",
        "plt.xlabel(\"Predicted labels\")\n",
        "plt.ylabel(\"True labels\")\n",
        "plt.title(\"Confusion matrix\")\n",
        "plt.savefig('/content/CM_trained_model_resnet18_base_threshold_pso.pdf', format='pdf')"
      ],
      "metadata": {
        "id": "gNQ_VzXCAHnU",
        "colab": {
          "base_uri": "https://localhost:8080/",
          "height": 718
        },
        "outputId": "14495fb6-ad5a-40b5-e320-653816f38d84"
      },
      "execution_count": null,
      "outputs": [
        {
          "output_type": "display_data",
          "data": {
            "text/plain": [
              "<Figure size 1000x800 with 2 Axes>"
            ],
            "image/png": "[encoded data removed]"
          },
          "metadata": {}
        }
      ]
    },
    {
      "cell_type": "code",
      "source": [
        "torch.save(model.state_dict(), 'model_weights_model_sigmoid_todo_new.pth')"
      ],
      "metadata": {
        "id": "-JEVGcArMqwx"
      },
      "execution_count": null,
      "outputs": []
    },
    {
      "cell_type": "markdown",
      "source": [
        "#threshold serach via tabu search"
      ],
      "metadata": {
        "id": "dTclAycswSvL"
      }
    },
    {
      "cell_type": "markdown",
      "source": [
        "# Use PSO for theshold optimization"
      ],
      "metadata": {
        "id": "IHoX-yzf2RXR"
      }
    },
    {
      "cell_type": "code",
      "source": [
        "import random\n",
        "\n",
        "def find_best_thresholds(model, dataloader, device, num_particles=20, max_iterations=25, w=0.7, c1=1.4, c2=1.4):\n",
        "    \"\"\"\n",
        "    Finds the best thresholds using Particle Swarm Optimization (PSO).\n",
        "    \"\"\"\n",
        "\n",
        "    num_classes = 4  # Assuming 4 classes\n",
        "    particles = []\n",
        "    velocities = []\n",
        "    for _ in range(num_particles):\n",
        "      particles.append([random.uniform(0, 1) for _ in range(num_classes)])\n",
        "      velocities.append([random.uniform(-0.1, 0.1) for _ in range(num_classes)])\n",
        "\n",
        "    pbest_positions = particles.copy()\n",
        "    pbest_scores = [0] * num_particles\n",
        "    gbest_position = particles[0].copy()\n",
        "    gbest_score = 0\n",
        "\n",
        "\n",
        "    for iteration in range(max_iterations):\n",
        "        for i in range(num_particles):\n",
        "            y_pred, y_true, _ = predict_with_thresholds(model, dataloader, device, particles[i])\n",
        "            report = classification_report(y_true, y_pred, output_dict=True, digits=4, target_names=test_data.classes)\n",
        "            f1_score = report['macro avg']['f1-score']\n",
        "\n",
        "            if f1_score > pbest_scores[i]:\n",
        "                pbest_scores[i] = f1_score\n",
        "                pbest_positions[i] = particles[i].copy()\n",
        "\n",
        "            if f1_score > gbest_score:\n",
        "                gbest_score = f1_score\n",
        "                gbest_position = particles[i].copy()\n",
        "\n",
        "            # Update velocity and position\n",
        "            for j in range(num_classes):\n",
        "                r1 = random.random()\n",
        "                r2 = random.random()\n",
        "                velocities[i][j] = (w * velocities[i][j] +\n",
        "                                    c1 * r1 * (pbest_positions[i][j] - particles[i][j]) +\n",
        "                                    c2 * r2 * (gbest_position[j] - particles[i][j]))\n",
        "                particles[i][j] = max(0, min(1, particles[i][j] + velocities[i][j]))  # Keep within [0,1]\n",
        "        print(f\"Iteration {iteration + 1}: Best F1 = {gbest_score:.4f}, Thresholds = {gbest_position}\")\n",
        "\n",
        "    return gbest_position\n",
        "\n",
        "find_best_thresholds(model, testloader, device)"
      ],
      "metadata": {
        "id": "JUdIlPU70lGd",
        "colab": {
          "base_uri": "https://localhost:8080/",
          "height": 704
        },
        "outputId": "19a79577-ac21-4f5b-d074-f8487c18b6e2"
      },
      "execution_count": null,
      "outputs": [
        {
          "output_type": "stream",
          "name": "stdout",
          "text": [
            "Iteration 1: Best F1 = 0.6157, Thresholds = [0.6651472364405617, 0.16822870280048796, 0.3913993591129741, 0.4339054970911791]\n",
            "Iteration 2: Best F1 = 0.6442, Thresholds = [0.8241686893417852, 0.3271260986660731, 0.32197502565123826, 0.5143469639752174]\n",
            "Iteration 3: Best F1 = 0.6481, Thresholds = [0.5816443991305424, 0.2666015782135308, 0.40866849950653505, 0.3383847855466176]\n",
            "Iteration 4: Best F1 = 0.6481, Thresholds = [0.5816443991305424, 0.2666015782135308, 0.40866849950653505, 0.3383847855466176]\n",
            "Iteration 5: Best F1 = 0.6481, Thresholds = [0.5816443991305424, 0.2666015782135308, 0.40866849950653505, 0.3383847855466176]\n",
            "Iteration 6: Best F1 = 0.6481, Thresholds = [0.5816443991305424, 0.2666015782135308, 0.40866849950653505, 0.3383847855466176]\n",
            "Iteration 7: Best F1 = 0.6562, Thresholds = [0.7669716439063008, 0.2052749278391549, 0.18759457144675323, 0.5270148034187729]\n",
            "Iteration 8: Best F1 = 0.6562, Thresholds = [0.7669716439063008, 0.2052749278391549, 0.18759457144675323, 0.5270148034187729]\n",
            "Iteration 9: Best F1 = 0.6604, Thresholds = [0.7873593053761736, 0.2843396543285497, 0.16261535030361834, 0.5332410798632722]\n",
            "Iteration 10: Best F1 = 0.6663, Thresholds = [0.763759063035404, 0.32752055103102135, 0.21202380942883498, 0.5499520179167191]\n",
            "Iteration 11: Best F1 = 0.6690, Thresholds = [0.755473919467102, 0.26135230440145524, 0.2774416926316881, 0.4814201071963889]\n",
            "Iteration 12: Best F1 = 0.6735, Thresholds = [0.7610829404359482, 0.2844721050767841, 0.4835184753328017, 0.53242742313367]\n",
            "Iteration 13: Best F1 = 0.6735, Thresholds = [0.7610829404359482, 0.2844721050767841, 0.4835184753328017, 0.53242742313367]\n",
            "Iteration 14: Best F1 = 0.6735, Thresholds = [0.7610829404359482, 0.2844721050767841, 0.4835184753328017, 0.53242742313367]\n",
            "Iteration 15: Best F1 = 0.6825, Thresholds = [0.7602731599715904, 0.28838335905834345, 0.3224424159129208, 0.5297425940588911]\n",
            "Iteration 16: Best F1 = 0.6825, Thresholds = [0.7602731599715904, 0.28838335905834345, 0.3224424159129208, 0.5297425940588911]\n",
            "Iteration 17: Best F1 = 0.6825, Thresholds = [0.7602731599715904, 0.28838335905834345, 0.3224424159129208, 0.5297425940588911]\n",
            "Iteration 18: Best F1 = 0.6825, Thresholds = [0.7602731599715904, 0.28838335905834345, 0.3224424159129208, 0.5297425940588911]\n",
            "Iteration 19: Best F1 = 0.6825, Thresholds = [0.7602731599715904, 0.28838335905834345, 0.3224424159129208, 0.5297425940588911]\n",
            "Iteration 20: Best F1 = 0.6825, Thresholds = [0.7602731599715904, 0.28838335905834345, 0.3224424159129208, 0.5297425940588911]\n",
            "Iteration 21: Best F1 = 0.6825, Thresholds = [0.7602731599715904, 0.28838335905834345, 0.3224424159129208, 0.5297425940588911]\n",
            "Iteration 22: Best F1 = 0.6825, Thresholds = [0.7602731599715904, 0.28838335905834345, 0.3224424159129208, 0.5297425940588911]\n"
          ]
        },
        {
          "output_type": "error",
          "ename": "KeyboardInterrupt",
          "evalue": "",
          "traceback": [
            "\u001b[0;31m---------------------------------------------------------------------------\u001b[0m",
            "\u001b[0;31mKeyboardInterrupt\u001b[0m                         Traceback (most recent call last)",
            "\u001b[0;32m<ipython-input-22-8ede25d2364c>\u001b[0m in \u001b[0;36m<cell line: 0>\u001b[0;34m()\u001b[0m\n\u001b[1;32m     45\u001b[0m     \u001b[0;32mreturn\u001b[0m \u001b[0mgbest_position\u001b[0m\u001b[0;34m\u001b[0m\u001b[0;34m\u001b[0m\u001b[0m\n\u001b[1;32m     46\u001b[0m \u001b[0;34m\u001b[0m\u001b[0m\n\u001b[0;32m---> 47\u001b[0;31m \u001b[0mfind_best_thresholds\u001b[0m\u001b[0;34m(\u001b[0m\u001b[0mmodel\u001b[0m\u001b[0;34m,\u001b[0m \u001b[0mtestloader\u001b[0m\u001b[0;34m,\u001b[0m \u001b[0mdevice\u001b[0m\u001b[0;34m)\u001b[0m\u001b[0;34m\u001b[0m\u001b[0;34m\u001b[0m\u001b[0m\n\u001b[0m",
            "\u001b[0;32m<ipython-input-22-8ede25d2364c>\u001b[0m in \u001b[0;36mfind_best_thresholds\u001b[0;34m(model, dataloader, device, num_particles, max_iterations, w, c1, c2)\u001b[0m\n\u001b[1;32m     21\u001b[0m     \u001b[0;32mfor\u001b[0m \u001b[0miteration\u001b[0m \u001b[0;32min\u001b[0m \u001b[0mrange\u001b[0m\u001b[0;34m(\u001b[0m\u001b[0mmax_iterations\u001b[0m\u001b[0;34m)\u001b[0m\u001b[0;34m:\u001b[0m\u001b[0;34m\u001b[0m\u001b[0;34m\u001b[0m\u001b[0m\n\u001b[1;32m     22\u001b[0m         \u001b[0;32mfor\u001b[0m \u001b[0mi\u001b[0m \u001b[0;32min\u001b[0m \u001b[0mrange\u001b[0m\u001b[0;34m(\u001b[0m\u001b[0mnum_particles\u001b[0m\u001b[0;34m)\u001b[0m\u001b[0;34m:\u001b[0m\u001b[0;34m\u001b[0m\u001b[0;34m\u001b[0m\u001b[0m\n\u001b[0;32m---> 23\u001b[0;31m             \u001b[0my_pred\u001b[0m\u001b[0;34m,\u001b[0m \u001b[0my_true\u001b[0m\u001b[0;34m,\u001b[0m \u001b[0m_\u001b[0m \u001b[0;34m=\u001b[0m \u001b[0mpredict_with_thresholds\u001b[0m\u001b[0;34m(\u001b[0m\u001b[0mmodel\u001b[0m\u001b[0;34m,\u001b[0m \u001b[0mdataloader\u001b[0m\u001b[0;34m,\u001b[0m \u001b[0mdevice\u001b[0m\u001b[0;34m,\u001b[0m \u001b[0mparticles\u001b[0m\u001b[0;34m[\u001b[0m\u001b[0mi\u001b[0m\u001b[0;34m]\u001b[0m\u001b[0;34m)\u001b[0m\u001b[0;34m\u001b[0m\u001b[0;34m\u001b[0m\u001b[0m\n\u001b[0m\u001b[1;32m     24\u001b[0m             \u001b[0mreport\u001b[0m \u001b[0;34m=\u001b[0m \u001b[0mclassification_report\u001b[0m\u001b[0;34m(\u001b[0m\u001b[0my_true\u001b[0m\u001b[0;34m,\u001b[0m \u001b[0my_pred\u001b[0m\u001b[0;34m,\u001b[0m \u001b[0moutput_dict\u001b[0m\u001b[0;34m=\u001b[0m\u001b[0;32mTrue\u001b[0m\u001b[0;34m,\u001b[0m \u001b[0mdigits\u001b[0m\u001b[0;34m=\u001b[0m\u001b[0;36m4\u001b[0m\u001b[0;34m,\u001b[0m \u001b[0mtarget_names\u001b[0m\u001b[0;34m=\u001b[0m\u001b[0mtest_data\u001b[0m\u001b[0;34m.\u001b[0m\u001b[0mclasses\u001b[0m\u001b[0;34m)\u001b[0m\u001b[0;34m\u001b[0m\u001b[0;34m\u001b[0m\u001b[0m\n\u001b[1;32m     25\u001b[0m             \u001b[0mf1_score\u001b[0m \u001b[0;34m=\u001b[0m \u001b[0mreport\u001b[0m\u001b[0;34m[\u001b[0m\u001b[0;34m'macro avg'\u001b[0m\u001b[0;34m]\u001b[0m\u001b[0;34m[\u001b[0m\u001b[0;34m'f1-score'\u001b[0m\u001b[0;34m]\u001b[0m\u001b[0;34m\u001b[0m\u001b[0;34m\u001b[0m\u001b[0m\n",
            "\u001b[0;32m<ipython-input-17-b2de3a5d5ee9>\u001b[0m in \u001b[0;36mpredict_with_thresholds\u001b[0;34m(model, dataloader, device, thresholds)\u001b[0m\n\u001b[1;32m     18\u001b[0m \u001b[0;34m\u001b[0m\u001b[0m\n\u001b[1;32m     19\u001b[0m     \u001b[0;32mwith\u001b[0m \u001b[0mtorch\u001b[0m\u001b[0;34m.\u001b[0m\u001b[0mno_grad\u001b[0m\u001b[0;34m(\u001b[0m\u001b[0;34m)\u001b[0m\u001b[0;34m:\u001b[0m\u001b[0;34m\u001b[0m\u001b[0;34m\u001b[0m\u001b[0m\n\u001b[0;32m---> 20\u001b[0;31m         \u001b[0;32mfor\u001b[0m \u001b[0mx_batch\u001b[0m\u001b[0;34m,\u001b[0m \u001b[0my_batch\u001b[0m\u001b[0;34m,\u001b[0m \u001b[0mimage_sample_name\u001b[0m \u001b[0;32min\u001b[0m \u001b[0mdataloader\u001b[0m\u001b[0;34m:\u001b[0m\u001b[0;34m\u001b[0m\u001b[0;34m\u001b[0m\u001b[0m\n\u001b[0m\u001b[1;32m     21\u001b[0m             \u001b[0mx_batch\u001b[0m \u001b[0;34m=\u001b[0m \u001b[0mx_batch\u001b[0m\u001b[0;34m.\u001b[0m\u001b[0mto\u001b[0m\u001b[0;34m(\u001b[0m\u001b[0mdevice\u001b[0m\u001b[0;34m)\u001b[0m\u001b[0;34m\u001b[0m\u001b[0;34m\u001b[0m\u001b[0m\n\u001b[1;32m     22\u001b[0m             \u001b[0my_batch\u001b[0m \u001b[0;34m=\u001b[0m \u001b[0my_batch\u001b[0m\u001b[0;34m.\u001b[0m\u001b[0munsqueeze\u001b[0m\u001b[0;34m(\u001b[0m\u001b[0;36m1\u001b[0m\u001b[0;34m)\u001b[0m\u001b[0;34m.\u001b[0m\u001b[0mfloat\u001b[0m\u001b[0;34m(\u001b[0m\u001b[0;34m)\u001b[0m  \u001b[0;31m# Convert target to same nn output shape\u001b[0m\u001b[0;34m\u001b[0m\u001b[0;34m\u001b[0m\u001b[0m\n",
            "\u001b[0;32m/usr/local/lib/python3.11/dist-packages/torch/utils/data/dataloader.py\u001b[0m in \u001b[0;36m__next__\u001b[0;34m(self)\u001b[0m\n\u001b[1;32m    699\u001b[0m                 \u001b[0;31m# TODO(https://github.com/pytorch/pytorch/issues/76750)\u001b[0m\u001b[0;34m\u001b[0m\u001b[0;34m\u001b[0m\u001b[0m\n\u001b[1;32m    700\u001b[0m                 \u001b[0mself\u001b[0m\u001b[0;34m.\u001b[0m\u001b[0m_reset\u001b[0m\u001b[0;34m(\u001b[0m\u001b[0;34m)\u001b[0m  \u001b[0;31m# type: ignore[call-arg]\u001b[0m\u001b[0;34m\u001b[0m\u001b[0;34m\u001b[0m\u001b[0m\n\u001b[0;32m--> 701\u001b[0;31m             \u001b[0mdata\u001b[0m \u001b[0;34m=\u001b[0m \u001b[0mself\u001b[0m\u001b[0;34m.\u001b[0m\u001b[0m_next_data\u001b[0m\u001b[0;34m(\u001b[0m\u001b[0;34m)\u001b[0m\u001b[0;34m\u001b[0m\u001b[0;34m\u001b[0m\u001b[0m\n\u001b[0m\u001b[1;32m    702\u001b[0m             \u001b[0mself\u001b[0m\u001b[0;34m.\u001b[0m\u001b[0m_num_yielded\u001b[0m \u001b[0;34m+=\u001b[0m \u001b[0;36m1\u001b[0m\u001b[0;34m\u001b[0m\u001b[0;34m\u001b[0m\u001b[0m\n\u001b[1;32m    703\u001b[0m             if (\n",
            "\u001b[0;32m/usr/local/lib/python3.11/dist-packages/torch/utils/data/dataloader.py\u001b[0m in \u001b[0;36m_next_data\u001b[0;34m(self)\u001b[0m\n\u001b[1;32m    755\u001b[0m     \u001b[0;32mdef\u001b[0m \u001b[0m_next_data\u001b[0m\u001b[0;34m(\u001b[0m\u001b[0mself\u001b[0m\u001b[0;34m)\u001b[0m\u001b[0;34m:\u001b[0m\u001b[0;34m\u001b[0m\u001b[0;34m\u001b[0m\u001b[0m\n\u001b[1;32m    756\u001b[0m         \u001b[0mindex\u001b[0m \u001b[0;34m=\u001b[0m \u001b[0mself\u001b[0m\u001b[0;34m.\u001b[0m\u001b[0m_next_index\u001b[0m\u001b[0;34m(\u001b[0m\u001b[0;34m)\u001b[0m  \u001b[0;31m# may raise StopIteration\u001b[0m\u001b[0;34m\u001b[0m\u001b[0;34m\u001b[0m\u001b[0m\n\u001b[0;32m--> 757\u001b[0;31m         \u001b[0mdata\u001b[0m \u001b[0;34m=\u001b[0m \u001b[0mself\u001b[0m\u001b[0;34m.\u001b[0m\u001b[0m_dataset_fetcher\u001b[0m\u001b[0;34m.\u001b[0m\u001b[0mfetch\u001b[0m\u001b[0;34m(\u001b[0m\u001b[0mindex\u001b[0m\u001b[0;34m)\u001b[0m  \u001b[0;31m# may raise StopIteration\u001b[0m\u001b[0;34m\u001b[0m\u001b[0;34m\u001b[0m\u001b[0m\n\u001b[0m\u001b[1;32m    758\u001b[0m         \u001b[0;32mif\u001b[0m \u001b[0mself\u001b[0m\u001b[0;34m.\u001b[0m\u001b[0m_pin_memory\u001b[0m\u001b[0;34m:\u001b[0m\u001b[0;34m\u001b[0m\u001b[0;34m\u001b[0m\u001b[0m\n\u001b[1;32m    759\u001b[0m             \u001b[0mdata\u001b[0m \u001b[0;34m=\u001b[0m \u001b[0m_utils\u001b[0m\u001b[0;34m.\u001b[0m\u001b[0mpin_memory\u001b[0m\u001b[0;34m.\u001b[0m\u001b[0mpin_memory\u001b[0m\u001b[0;34m(\u001b[0m\u001b[0mdata\u001b[0m\u001b[0;34m,\u001b[0m \u001b[0mself\u001b[0m\u001b[0;34m.\u001b[0m\u001b[0m_pin_memory_device\u001b[0m\u001b[0;34m)\u001b[0m\u001b[0;34m\u001b[0m\u001b[0;34m\u001b[0m\u001b[0m\n",
            "\u001b[0;32m/usr/local/lib/python3.11/dist-packages/torch/utils/data/_utils/fetch.py\u001b[0m in \u001b[0;36mfetch\u001b[0;34m(self, possibly_batched_index)\u001b[0m\n\u001b[1;32m     50\u001b[0m                 \u001b[0mdata\u001b[0m \u001b[0;34m=\u001b[0m \u001b[0mself\u001b[0m\u001b[0;34m.\u001b[0m\u001b[0mdataset\u001b[0m\u001b[0;34m.\u001b[0m\u001b[0m__getitems__\u001b[0m\u001b[0;34m(\u001b[0m\u001b[0mpossibly_batched_index\u001b[0m\u001b[0;34m)\u001b[0m\u001b[0;34m\u001b[0m\u001b[0;34m\u001b[0m\u001b[0m\n\u001b[1;32m     51\u001b[0m             \u001b[0;32melse\u001b[0m\u001b[0;34m:\u001b[0m\u001b[0;34m\u001b[0m\u001b[0;34m\u001b[0m\u001b[0m\n\u001b[0;32m---> 52\u001b[0;31m                 \u001b[0mdata\u001b[0m \u001b[0;34m=\u001b[0m \u001b[0;34m[\u001b[0m\u001b[0mself\u001b[0m\u001b[0;34m.\u001b[0m\u001b[0mdataset\u001b[0m\u001b[0;34m[\u001b[0m\u001b[0midx\u001b[0m\u001b[0;34m]\u001b[0m \u001b[0;32mfor\u001b[0m \u001b[0midx\u001b[0m \u001b[0;32min\u001b[0m \u001b[0mpossibly_batched_index\u001b[0m\u001b[0;34m]\u001b[0m\u001b[0;34m\u001b[0m\u001b[0;34m\u001b[0m\u001b[0m\n\u001b[0m\u001b[1;32m     53\u001b[0m         \u001b[0;32melse\u001b[0m\u001b[0;34m:\u001b[0m\u001b[0;34m\u001b[0m\u001b[0;34m\u001b[0m\u001b[0m\n\u001b[1;32m     54\u001b[0m             \u001b[0mdata\u001b[0m \u001b[0;34m=\u001b[0m \u001b[0mself\u001b[0m\u001b[0;34m.\u001b[0m\u001b[0mdataset\u001b[0m\u001b[0;34m[\u001b[0m\u001b[0mpossibly_batched_index\u001b[0m\u001b[0;34m]\u001b[0m\u001b[0;34m\u001b[0m\u001b[0;34m\u001b[0m\u001b[0m\n",
            "\u001b[0;32m/usr/local/lib/python3.11/dist-packages/torch/utils/data/_utils/fetch.py\u001b[0m in \u001b[0;36m<listcomp>\u001b[0;34m(.0)\u001b[0m\n\u001b[1;32m     50\u001b[0m                 \u001b[0mdata\u001b[0m \u001b[0;34m=\u001b[0m \u001b[0mself\u001b[0m\u001b[0;34m.\u001b[0m\u001b[0mdataset\u001b[0m\u001b[0;34m.\u001b[0m\u001b[0m__getitems__\u001b[0m\u001b[0;34m(\u001b[0m\u001b[0mpossibly_batched_index\u001b[0m\u001b[0;34m)\u001b[0m\u001b[0;34m\u001b[0m\u001b[0;34m\u001b[0m\u001b[0m\n\u001b[1;32m     51\u001b[0m             \u001b[0;32melse\u001b[0m\u001b[0;34m:\u001b[0m\u001b[0;34m\u001b[0m\u001b[0;34m\u001b[0m\u001b[0m\n\u001b[0;32m---> 52\u001b[0;31m                 \u001b[0mdata\u001b[0m \u001b[0;34m=\u001b[0m \u001b[0;34m[\u001b[0m\u001b[0mself\u001b[0m\u001b[0;34m.\u001b[0m\u001b[0mdataset\u001b[0m\u001b[0;34m[\u001b[0m\u001b[0midx\u001b[0m\u001b[0;34m]\u001b[0m \u001b[0;32mfor\u001b[0m \u001b[0midx\u001b[0m \u001b[0;32min\u001b[0m \u001b[0mpossibly_batched_index\u001b[0m\u001b[0;34m]\u001b[0m\u001b[0;34m\u001b[0m\u001b[0;34m\u001b[0m\u001b[0m\n\u001b[0m\u001b[1;32m     53\u001b[0m         \u001b[0;32melse\u001b[0m\u001b[0;34m:\u001b[0m\u001b[0;34m\u001b[0m\u001b[0;34m\u001b[0m\u001b[0m\n\u001b[1;32m     54\u001b[0m             \u001b[0mdata\u001b[0m \u001b[0;34m=\u001b[0m \u001b[0mself\u001b[0m\u001b[0;34m.\u001b[0m\u001b[0mdataset\u001b[0m\u001b[0;34m[\u001b[0m\u001b[0mpossibly_batched_index\u001b[0m\u001b[0;34m]\u001b[0m\u001b[0;34m\u001b[0m\u001b[0;34m\u001b[0m\u001b[0m\n",
            "\u001b[0;32m<ipython-input-4-c8101c5a9ed7>\u001b[0m in \u001b[0;36m__getitem__\u001b[0;34m(self, index)\u001b[0m\n\u001b[1;32m     28\u001b[0m     \u001b[0;32mdef\u001b[0m \u001b[0m__getitem__\u001b[0m\u001b[0;34m(\u001b[0m\u001b[0mself\u001b[0m\u001b[0;34m,\u001b[0m \u001b[0mindex\u001b[0m\u001b[0;34m:\u001b[0m \u001b[0mint\u001b[0m\u001b[0;34m)\u001b[0m \u001b[0;34m->\u001b[0m \u001b[0mTuple\u001b[0m\u001b[0;34m[\u001b[0m\u001b[0mAny\u001b[0m\u001b[0;34m,\u001b[0m \u001b[0mAny\u001b[0m\u001b[0;34m]\u001b[0m\u001b[0;34m:\u001b[0m\u001b[0;34m\u001b[0m\u001b[0;34m\u001b[0m\u001b[0m\n\u001b[1;32m     29\u001b[0m         \u001b[0mpath\u001b[0m\u001b[0;34m,\u001b[0m \u001b[0mtarget\u001b[0m \u001b[0;34m=\u001b[0m \u001b[0mself\u001b[0m\u001b[0;34m.\u001b[0m\u001b[0msamples\u001b[0m\u001b[0;34m[\u001b[0m\u001b[0mindex\u001b[0m\u001b[0;34m]\u001b[0m\u001b[0;34m\u001b[0m\u001b[0;34m\u001b[0m\u001b[0m\n\u001b[0;32m---> 30\u001b[0;31m         \u001b[0msample\u001b[0m \u001b[0;34m=\u001b[0m \u001b[0mself\u001b[0m\u001b[0;34m.\u001b[0m\u001b[0mloader\u001b[0m\u001b[0;34m(\u001b[0m\u001b[0mpath\u001b[0m\u001b[0;34m)\u001b[0m\u001b[0;34m\u001b[0m\u001b[0;34m\u001b[0m\u001b[0m\n\u001b[0m\u001b[1;32m     31\u001b[0m         \u001b[0;31m# Extract the filename from the path\u001b[0m\u001b[0;34m\u001b[0m\u001b[0;34m\u001b[0m\u001b[0m\n\u001b[1;32m     32\u001b[0m         \u001b[0mpath\u001b[0m \u001b[0;34m=\u001b[0m \u001b[0mself\u001b[0m\u001b[0;34m.\u001b[0m\u001b[0msamples\u001b[0m\u001b[0;34m[\u001b[0m\u001b[0mindex\u001b[0m\u001b[0;34m]\u001b[0m\u001b[0;34m[\u001b[0m\u001b[0;36m0\u001b[0m\u001b[0;34m]\u001b[0m\u001b[0;34m\u001b[0m\u001b[0;34m\u001b[0m\u001b[0m\n",
            "\u001b[0;32m/usr/local/lib/python3.11/dist-packages/torchvision/datasets/folder.py\u001b[0m in \u001b[0;36mdefault_loader\u001b[0;34m(path)\u001b[0m\n\u001b[1;32m    282\u001b[0m         \u001b[0;32mreturn\u001b[0m \u001b[0maccimage_loader\u001b[0m\u001b[0;34m(\u001b[0m\u001b[0mpath\u001b[0m\u001b[0;34m)\u001b[0m\u001b[0;34m\u001b[0m\u001b[0;34m\u001b[0m\u001b[0m\n\u001b[1;32m    283\u001b[0m     \u001b[0;32melse\u001b[0m\u001b[0;34m:\u001b[0m\u001b[0;34m\u001b[0m\u001b[0;34m\u001b[0m\u001b[0m\n\u001b[0;32m--> 284\u001b[0;31m         \u001b[0;32mreturn\u001b[0m \u001b[0mpil_loader\u001b[0m\u001b[0;34m(\u001b[0m\u001b[0mpath\u001b[0m\u001b[0;34m)\u001b[0m\u001b[0;34m\u001b[0m\u001b[0;34m\u001b[0m\u001b[0m\n\u001b[0m\u001b[1;32m    285\u001b[0m \u001b[0;34m\u001b[0m\u001b[0m\n\u001b[1;32m    286\u001b[0m \u001b[0;34m\u001b[0m\u001b[0m\n",
            "\u001b[0;32m/usr/local/lib/python3.11/dist-packages/torchvision/datasets/folder.py\u001b[0m in \u001b[0;36mpil_loader\u001b[0;34m(path)\u001b[0m\n\u001b[1;32m    262\u001b[0m     \u001b[0;32mwith\u001b[0m \u001b[0mopen\u001b[0m\u001b[0;34m(\u001b[0m\u001b[0mpath\u001b[0m\u001b[0;34m,\u001b[0m \u001b[0;34m\"rb\"\u001b[0m\u001b[0;34m)\u001b[0m \u001b[0;32mas\u001b[0m \u001b[0mf\u001b[0m\u001b[0;34m:\u001b[0m\u001b[0;34m\u001b[0m\u001b[0;34m\u001b[0m\u001b[0m\n\u001b[1;32m    263\u001b[0m         \u001b[0mimg\u001b[0m \u001b[0;34m=\u001b[0m \u001b[0mImage\u001b[0m\u001b[0;34m.\u001b[0m\u001b[0mopen\u001b[0m\u001b[0;34m(\u001b[0m\u001b[0mf\u001b[0m\u001b[0;34m)\u001b[0m\u001b[0;34m\u001b[0m\u001b[0;34m\u001b[0m\u001b[0m\n\u001b[0;32m--> 264\u001b[0;31m         \u001b[0;32mreturn\u001b[0m \u001b[0mimg\u001b[0m\u001b[0;34m.\u001b[0m\u001b[0mconvert\u001b[0m\u001b[0;34m(\u001b[0m\u001b[0;34m\"RGB\"\u001b[0m\u001b[0;34m)\u001b[0m\u001b[0;34m\u001b[0m\u001b[0;34m\u001b[0m\u001b[0m\n\u001b[0m\u001b[1;32m    265\u001b[0m \u001b[0;34m\u001b[0m\u001b[0m\n\u001b[1;32m    266\u001b[0m \u001b[0;34m\u001b[0m\u001b[0m\n",
            "\u001b[0;32m/usr/local/lib/python3.11/dist-packages/PIL/Image.py\u001b[0m in \u001b[0;36mconvert\u001b[0;34m(self, mode, matrix, dither, palette, colors)\u001b[0m\n\u001b[1;32m   1141\u001b[0m \u001b[0;34m\u001b[0m\u001b[0m\n\u001b[1;32m   1142\u001b[0m         \u001b[0;32mtry\u001b[0m\u001b[0;34m:\u001b[0m\u001b[0;34m\u001b[0m\u001b[0;34m\u001b[0m\u001b[0m\n\u001b[0;32m-> 1143\u001b[0;31m             \u001b[0mim\u001b[0m \u001b[0;34m=\u001b[0m \u001b[0mself\u001b[0m\u001b[0;34m.\u001b[0m\u001b[0mim\u001b[0m\u001b[0;34m.\u001b[0m\u001b[0mconvert\u001b[0m\u001b[0;34m(\u001b[0m\u001b[0mmode\u001b[0m\u001b[0;34m,\u001b[0m \u001b[0mdither\u001b[0m\u001b[0;34m)\u001b[0m\u001b[0;34m\u001b[0m\u001b[0;34m\u001b[0m\u001b[0m\n\u001b[0m\u001b[1;32m   1144\u001b[0m         \u001b[0;32mexcept\u001b[0m \u001b[0mValueError\u001b[0m\u001b[0;34m:\u001b[0m\u001b[0;34m\u001b[0m\u001b[0;34m\u001b[0m\u001b[0m\n\u001b[1;32m   1145\u001b[0m             \u001b[0;32mtry\u001b[0m\u001b[0;34m:\u001b[0m\u001b[0;34m\u001b[0m\u001b[0;34m\u001b[0m\u001b[0m\n",
            "\u001b[0;31mKeyboardInterrupt\u001b[0m: "
          ]
        }
      ]
    },
    {
      "cell_type": "code",
      "source": [
        "from sklearn.metrics import confusion_matrix\n",
        "import seaborn as sns\n",
        "import matplotlib.pyplot as plt\n",
        "thresholds =  [0.7602731599715904, 0.28838335905834345, 0.3224424159129208, 0.5297425940588911]#[0.45, 0.25, 0.35, 0.55] # 0.45, 0.25, 0.35, 0.55\n",
        "y_pred, y_true, todo_performance_analize = predict_with_thresholds(model, testloader, device, thresholds)\n",
        "\n",
        "# Classification report\n",
        "print(classification_report(y_true, y_pred, digits=4, target_names=test_data.classes))\n",
        "\n",
        "cm = confusion_matrix(y_true, y_pred)\n",
        "\n",
        "plt.figure(figsize=(10, 8))\n",
        "sns.heatmap(cm, annot=True, fmt=\"d\", cmap=\"Blues\",\n",
        "            xticklabels=[\"CURVATURE\",\"SKEW\", \"ORIGINAL\", \"NOISE\", \"ALL\"], yticklabels=[\"CURVATURE\",\"SKEW\", \"ORIGINAL\", \"NOISE\", \"ALL\"])\n",
        "plt.xlabel(\"Predicted labels\")\n",
        "plt.ylabel(\"True labels\")\n",
        "plt.title(\"Confusion matrix\")\n",
        "plt.savefig('/content/CM_trained_model_resnet18_base_threshold_pso.pdf', format='pdf')"
      ],
      "metadata": {
        "colab": {
          "base_uri": "https://localhost:8080/",
          "height": 926
        },
        "id": "s9H6K66oG1yH",
        "outputId": "a4d2ffb2-6283-48da-9630-aca5fc9d9c3d"
      },
      "execution_count": null,
      "outputs": [
        {
          "output_type": "stream",
          "name": "stdout",
          "text": [
            "              precision    recall  f1-score   support\n",
            "\n",
            "   CURVATURA     0.8571    0.5217    0.6486        23\n",
            " INCLINACION     0.5000    0.5714    0.5333        21\n",
            "    ORIGINAL     0.5185    0.7000    0.5957        20\n",
            "       RUIDO     0.6333    0.7308    0.6786        26\n",
            "        TODO     0.6923    0.5806    0.6316        31\n",
            "\n",
            "    accuracy                         0.6198       121\n",
            "   macro avg     0.6403    0.6209    0.6176       121\n",
            "weighted avg     0.6489    0.6198    0.6219       121\n",
            "\n"
          ]
        },
        {
          "output_type": "display_data",
          "data": {
            "text/plain": [
              "<Figure size 1000x800 with 2 Axes>"
            ],
            "image/png": "[encoded data removed]"
          },
          "metadata": {}
        }
      ]
    },
    {
      "cell_type": "markdown",
      "source": [
        "# Genetic algorithms"
      ],
      "metadata": {
        "id": "D4YmIgc5qLr6"
      }
    },
    {
      "cell_type": "code",
      "source": [
        "import random\n",
        "\n",
        "def fitness_function(thresholds, model, dataloader, device):\n",
        "    \"\"\"Calculates the fitness (macro F1-score) for given thresholds.\"\"\"\n",
        "    y_pred, y_true, _ = predict_with_thresholds(model, dataloader, device, thresholds)\n",
        "    report = classification_report(y_true, y_pred, output_dict=True, digits=4, target_names=test_data.classes)\n",
        "    return report['macro avg']['f1-score']\n",
        "\n",
        "def genetic_algorithm(model, dataloader, device, population_size=25, generations=25, mutation_rate=0.1):\n",
        "    \"\"\"\n",
        "    Optimizes thresholds using a genetic algorithm.\n",
        "    \"\"\"\n",
        "\n",
        "    num_classes = 4  # Number of classes\n",
        "    # Initialize the population with random thresholds\n",
        "    population = [[random.uniform(0, 1) for _ in range(num_classes)] for _ in range(population_size)]\n",
        "\n",
        "    best_thresholds = None\n",
        "    best_fitness = 0\n",
        "\n",
        "    for generation in range(generations):\n",
        "        fitness_scores = [fitness_function(thresholds, model, dataloader, device) for thresholds in population]\n",
        "\n",
        "        # Find the best individual in the current generation\n",
        "        current_best_index = fitness_scores.index(max(fitness_scores))\n",
        "        current_best_fitness = fitness_scores[current_best_index]\n",
        "        current_best_thresholds = population[current_best_index]\n",
        "\n",
        "        if current_best_fitness > best_fitness:\n",
        "          best_fitness = current_best_fitness\n",
        "          best_thresholds = current_best_thresholds\n",
        "\n",
        "        # Select parents using tournament selection\n",
        "        parents = []\n",
        "        for _ in range(population_size):\n",
        "            tournament = random.sample(range(population_size), 5)  # Tournament size 5\n",
        "            winner = tournament[0]\n",
        "            for i in tournament[1:]:\n",
        "                if fitness_scores[i] > fitness_scores[winner]:\n",
        "                    winner = i\n",
        "            parents.append(population[winner])\n",
        "\n",
        "        # Create the next generation through crossover and mutation\n",
        "        new_population = []\n",
        "        for i in range(0, population_size, 2):\n",
        "            parent1 = parents[i]\n",
        "            parent2 = parents[i + 1]\n",
        "\n",
        "            # Crossover\n",
        "            crossover_point = random.randint(1, num_classes-1)\n",
        "            child1 = parent1[:crossover_point] + parent2[crossover_point:]\n",
        "            child2 = parent2[:crossover_point] + parent1[crossover_point:]\n",
        "\n",
        "            # Mutation\n",
        "            for j in range(num_classes):\n",
        "                if random.random() < mutation_rate:\n",
        "                    child1[j] = max(0, min(1, child1[j] + random.uniform(-0.1, 0.1))) # Keep within [0, 1]\n",
        "                if random.random() < mutation_rate:\n",
        "                    child2[j] = max(0, min(1, child2[j] + random.uniform(-0.1, 0.1))) # Keep within [0, 1]\n",
        "\n",
        "            new_population.extend([child1, child2])\n",
        "\n",
        "        population = new_population\n",
        "        print(f\"Generation {generation + 1}: Best F1 = {best_fitness:.4f}, Thresholds = {best_thresholds}\")\n",
        "\n",
        "    return best_thresholds\n",
        "\n",
        "best_thresholds_ga = genetic_algorithm(model, testloader, device)\n",
        "print(f\"\\nBest thresholds found by genetic algorithm: {best_thresholds_ga}\")\n"
      ],
      "metadata": {
        "id": "j43Kdnoso4To"
      },
      "execution_count": null,
      "outputs": []
    },
    {
      "cell_type": "markdown",
      "source": [
        "# Bacterial foraging optimization"
      ],
      "metadata": {
        "id": "OaLzRsYyq1rz"
      }
    },
    {
      "cell_type": "code",
      "source": [
        "# prompt: Use bacterial foraging optimization for threshold estimation\n",
        "def bacterial_foraging_optimization(model, dataloader, device, num_bacteria=20, num_iterations=25, Nc=5, Ns=4, Ned=2, C_attr=0.1, p_eliminate=0.2):\n",
        "    \"\"\"\n",
        "    Finds the best thresholds using Bacterial Foraging Optimization (BFO).\n",
        "    \"\"\"\n",
        "    num_classes = 4\n",
        "    bacteria = []\n",
        "    for _ in range(num_bacteria):\n",
        "      bacteria.append([random.uniform(0, 1) for _ in range(num_classes)])\n",
        "\n",
        "    best_thresholds = None\n",
        "    best_fitness = 0\n",
        "\n",
        "    for iteration in range(num_iterations):\n",
        "        # 1. Chemotaxis\n",
        "        for b in range(num_bacteria):\n",
        "            for _ in range(Nc):\n",
        "              delta = [random.uniform(-0.1, 0.1) for _ in range(num_classes)]\n",
        "              new_thresholds = [max(0, min(1, t + d)) for t,d in zip(bacteria[b],delta)]\n",
        "\n",
        "              y_pred, y_true, _ = predict_with_thresholds(model, dataloader, device, new_thresholds)\n",
        "              report = classification_report(y_true, y_pred, output_dict=True, digits=4, target_names=test_data.classes)\n",
        "              new_fitness = report['macro avg']['f1-score']\n",
        "\n",
        "              if new_fitness > fitness_function(bacteria[b], model, dataloader, device):\n",
        "                 bacteria[b] = new_thresholds\n",
        "\n",
        "        # 2. Reproduction\n",
        "        fitness_scores = [fitness_function(thresholds, model, dataloader, device) for thresholds in bacteria]\n",
        "        sorted_bacteria = sorted(zip(bacteria, fitness_scores), key=lambda x: x[1], reverse=True)\n",
        "        bacteria = [b for b, f in sorted_bacteria]\n",
        "        bacteria = bacteria[:num_bacteria//2] + bacteria[:num_bacteria//2] # Duplicate the top half\n",
        "\n",
        "        # 3. Elimination and Dispersal\n",
        "        for i in range(num_bacteria):\n",
        "            if random.random() < p_eliminate:\n",
        "                bacteria[i] = [random.uniform(0, 1) for _ in range(num_classes)]\n",
        "\n",
        "        # Check for the best solution in the current iteration\n",
        "        current_best_index = np.argmax([fitness_function(thresholds, model, dataloader, device) for thresholds in bacteria])\n",
        "        current_best_fitness = fitness_function(bacteria[current_best_index], model, dataloader, device)\n",
        "        current_best_thresholds = bacteria[current_best_index]\n",
        "\n",
        "        if current_best_fitness > best_fitness:\n",
        "          best_fitness = current_best_fitness\n",
        "          best_thresholds = current_best_thresholds\n",
        "\n",
        "        print(f\"Iteration {iteration + 1}: Best F1 = {best_fitness:.4f}, Thresholds = {best_thresholds}\")\n",
        "\n",
        "    return best_thresholds\n",
        "best_thresholds_bfo = bacterial_foraging_optimization(model, testloader, device)\n",
        "print(f\"\\nBest thresholds found by bacterial foraging optimization: {best_thresholds_bfo}\")\n"
      ],
      "metadata": {
        "id": "gLR7UL0HqCnn",
        "colab": {
          "base_uri": "https://localhost:8080/",
          "height": 880
        },
        "outputId": "35b856cd-414a-4e69-d448-e53e7ad5a685"
      },
      "execution_count": null,
      "outputs": [
        {
          "output_type": "stream",
          "name": "stderr",
          "text": [
            "/usr/local/lib/python3.11/dist-packages/sklearn/metrics/_classification.py:1565: UndefinedMetricWarning: Precision is ill-defined and being set to 0.0 in labels with no predicted samples. Use `zero_division` parameter to control this behavior.\n",
            "  _warn_prf(average, modifier, f\"{metric.capitalize()} is\", len(result))\n",
            "/usr/local/lib/python3.11/dist-packages/sklearn/metrics/_classification.py:1565: UndefinedMetricWarning: Precision is ill-defined and being set to 0.0 in labels with no predicted samples. Use `zero_division` parameter to control this behavior.\n",
            "  _warn_prf(average, modifier, f\"{metric.capitalize()} is\", len(result))\n",
            "/usr/local/lib/python3.11/dist-packages/sklearn/metrics/_classification.py:1565: UndefinedMetricWarning: Precision is ill-defined and being set to 0.0 in labels with no predicted samples. Use `zero_division` parameter to control this behavior.\n",
            "  _warn_prf(average, modifier, f\"{metric.capitalize()} is\", len(result))\n",
            "/usr/local/lib/python3.11/dist-packages/sklearn/metrics/_classification.py:1565: UndefinedMetricWarning: Precision is ill-defined and being set to 0.0 in labels with no predicted samples. Use `zero_division` parameter to control this behavior.\n",
            "  _warn_prf(average, modifier, f\"{metric.capitalize()} is\", len(result))\n",
            "/usr/local/lib/python3.11/dist-packages/sklearn/metrics/_classification.py:1565: UndefinedMetricWarning: Precision is ill-defined and being set to 0.0 in labels with no predicted samples. Use `zero_division` parameter to control this behavior.\n",
            "  _warn_prf(average, modifier, f\"{metric.capitalize()} is\", len(result))\n",
            "/usr/local/lib/python3.11/dist-packages/sklearn/metrics/_classification.py:1565: UndefinedMetricWarning: Precision is ill-defined and being set to 0.0 in labels with no predicted samples. Use `zero_division` parameter to control this behavior.\n",
            "  _warn_prf(average, modifier, f\"{metric.capitalize()} is\", len(result))\n",
            "/usr/local/lib/python3.11/dist-packages/sklearn/metrics/_classification.py:1565: UndefinedMetricWarning: Precision is ill-defined and being set to 0.0 in labels with no predicted samples. Use `zero_division` parameter to control this behavior.\n",
            "  _warn_prf(average, modifier, f\"{metric.capitalize()} is\", len(result))\n",
            "/usr/local/lib/python3.11/dist-packages/sklearn/metrics/_classification.py:1565: UndefinedMetricWarning: Precision is ill-defined and being set to 0.0 in labels with no predicted samples. Use `zero_division` parameter to control this behavior.\n",
            "  _warn_prf(average, modifier, f\"{metric.capitalize()} is\", len(result))\n",
            "/usr/local/lib/python3.11/dist-packages/sklearn/metrics/_classification.py:1565: UndefinedMetricWarning: Precision is ill-defined and being set to 0.0 in labels with no predicted samples. Use `zero_division` parameter to control this behavior.\n",
            "  _warn_prf(average, modifier, f\"{metric.capitalize()} is\", len(result))\n",
            "/usr/local/lib/python3.11/dist-packages/sklearn/metrics/_classification.py:1565: UndefinedMetricWarning: Precision is ill-defined and being set to 0.0 in labels with no predicted samples. Use `zero_division` parameter to control this behavior.\n",
            "  _warn_prf(average, modifier, f\"{metric.capitalize()} is\", len(result))\n",
            "/usr/local/lib/python3.11/dist-packages/sklearn/metrics/_classification.py:1565: UndefinedMetricWarning: Precision is ill-defined and being set to 0.0 in labels with no predicted samples. Use `zero_division` parameter to control this behavior.\n",
            "  _warn_prf(average, modifier, f\"{metric.capitalize()} is\", len(result))\n",
            "/usr/local/lib/python3.11/dist-packages/sklearn/metrics/_classification.py:1565: UndefinedMetricWarning: Precision is ill-defined and being set to 0.0 in labels with no predicted samples. Use `zero_division` parameter to control this behavior.\n",
            "  _warn_prf(average, modifier, f\"{metric.capitalize()} is\", len(result))\n",
            "/usr/local/lib/python3.11/dist-packages/sklearn/metrics/_classification.py:1565: UndefinedMetricWarning: Precision is ill-defined and being set to 0.0 in labels with no predicted samples. Use `zero_division` parameter to control this behavior.\n",
            "  _warn_prf(average, modifier, f\"{metric.capitalize()} is\", len(result))\n",
            "/usr/local/lib/python3.11/dist-packages/sklearn/metrics/_classification.py:1565: UndefinedMetricWarning: Precision is ill-defined and being set to 0.0 in labels with no predicted samples. Use `zero_division` parameter to control this behavior.\n",
            "  _warn_prf(average, modifier, f\"{metric.capitalize()} is\", len(result))\n",
            "/usr/local/lib/python3.11/dist-packages/sklearn/metrics/_classification.py:1565: UndefinedMetricWarning: Precision is ill-defined and being set to 0.0 in labels with no predicted samples. Use `zero_division` parameter to control this behavior.\n",
            "  _warn_prf(average, modifier, f\"{metric.capitalize()} is\", len(result))\n"
          ]
        },
        {
          "output_type": "error",
          "ename": "KeyboardInterrupt",
          "evalue": "",
          "traceback": [
            "\u001b[0;31m---------------------------------------------------------------------------\u001b[0m",
            "\u001b[0;31mKeyboardInterrupt\u001b[0m                         Traceback (most recent call last)",
            "\u001b[0;32m<ipython-input-16-e04b7b8c709c>\u001b[0m in \u001b[0;36m<cell line: 0>\u001b[0;34m()\u001b[0m\n\u001b[1;32m     49\u001b[0m \u001b[0;34m\u001b[0m\u001b[0m\n\u001b[1;32m     50\u001b[0m     \u001b[0;32mreturn\u001b[0m \u001b[0mbest_thresholds\u001b[0m\u001b[0;34m\u001b[0m\u001b[0;34m\u001b[0m\u001b[0m\n\u001b[0;32m---> 51\u001b[0;31m \u001b[0mbest_thresholds_bfo\u001b[0m \u001b[0;34m=\u001b[0m \u001b[0mbacterial_foraging_optimization\u001b[0m\u001b[0;34m(\u001b[0m\u001b[0mmodel\u001b[0m\u001b[0;34m,\u001b[0m \u001b[0mtestloader\u001b[0m\u001b[0;34m,\u001b[0m \u001b[0mdevice\u001b[0m\u001b[0;34m)\u001b[0m\u001b[0;34m\u001b[0m\u001b[0;34m\u001b[0m\u001b[0m\n\u001b[0m\u001b[1;32m     52\u001b[0m \u001b[0mprint\u001b[0m\u001b[0;34m(\u001b[0m\u001b[0;34mf\"\\nBest thresholds found by bacterial foraging optimization: {best_thresholds_bfo}\"\u001b[0m\u001b[0;34m)\u001b[0m\u001b[0;34m\u001b[0m\u001b[0;34m\u001b[0m\u001b[0m\n",
            "\u001b[0;32m<ipython-input-16-e04b7b8c709c>\u001b[0m in \u001b[0;36mbacterial_foraging_optimization\u001b[0;34m(model, dataloader, device, num_bacteria, num_iterations, Nc, Ns, Ned, C_attr, p_eliminate)\u001b[0m\n\u001b[1;32m     19\u001b[0m               \u001b[0mnew_thresholds\u001b[0m \u001b[0;34m=\u001b[0m \u001b[0;34m[\u001b[0m\u001b[0mmax\u001b[0m\u001b[0;34m(\u001b[0m\u001b[0;36m0\u001b[0m\u001b[0;34m,\u001b[0m \u001b[0mmin\u001b[0m\u001b[0;34m(\u001b[0m\u001b[0;36m1\u001b[0m\u001b[0;34m,\u001b[0m \u001b[0mt\u001b[0m \u001b[0;34m+\u001b[0m \u001b[0md\u001b[0m\u001b[0;34m)\u001b[0m\u001b[0;34m)\u001b[0m \u001b[0;32mfor\u001b[0m \u001b[0mt\u001b[0m\u001b[0;34m,\u001b[0m\u001b[0md\u001b[0m \u001b[0;32min\u001b[0m \u001b[0mzip\u001b[0m\u001b[0;34m(\u001b[0m\u001b[0mbacteria\u001b[0m\u001b[0;34m[\u001b[0m\u001b[0mb\u001b[0m\u001b[0;34m]\u001b[0m\u001b[0;34m,\u001b[0m\u001b[0mdelta\u001b[0m\u001b[0;34m)\u001b[0m\u001b[0;34m]\u001b[0m\u001b[0;34m\u001b[0m\u001b[0;34m\u001b[0m\u001b[0m\n\u001b[1;32m     20\u001b[0m \u001b[0;34m\u001b[0m\u001b[0m\n\u001b[0;32m---> 21\u001b[0;31m               \u001b[0my_pred\u001b[0m\u001b[0;34m,\u001b[0m \u001b[0my_true\u001b[0m\u001b[0;34m,\u001b[0m \u001b[0m_\u001b[0m \u001b[0;34m=\u001b[0m \u001b[0mpredict_with_thresholds\u001b[0m\u001b[0;34m(\u001b[0m\u001b[0mmodel\u001b[0m\u001b[0;34m,\u001b[0m \u001b[0mdataloader\u001b[0m\u001b[0;34m,\u001b[0m \u001b[0mdevice\u001b[0m\u001b[0;34m,\u001b[0m \u001b[0mnew_thresholds\u001b[0m\u001b[0;34m)\u001b[0m\u001b[0;34m\u001b[0m\u001b[0;34m\u001b[0m\u001b[0m\n\u001b[0m\u001b[1;32m     22\u001b[0m               \u001b[0mreport\u001b[0m \u001b[0;34m=\u001b[0m \u001b[0mclassification_report\u001b[0m\u001b[0;34m(\u001b[0m\u001b[0my_true\u001b[0m\u001b[0;34m,\u001b[0m \u001b[0my_pred\u001b[0m\u001b[0;34m,\u001b[0m \u001b[0moutput_dict\u001b[0m\u001b[0;34m=\u001b[0m\u001b[0;32mTrue\u001b[0m\u001b[0;34m,\u001b[0m \u001b[0mdigits\u001b[0m\u001b[0;34m=\u001b[0m\u001b[0;36m4\u001b[0m\u001b[0;34m,\u001b[0m \u001b[0mtarget_names\u001b[0m\u001b[0;34m=\u001b[0m\u001b[0mtest_data\u001b[0m\u001b[0;34m.\u001b[0m\u001b[0mclasses\u001b[0m\u001b[0;34m)\u001b[0m\u001b[0;34m\u001b[0m\u001b[0;34m\u001b[0m\u001b[0m\n\u001b[1;32m     23\u001b[0m               \u001b[0mnew_fitness\u001b[0m \u001b[0;34m=\u001b[0m \u001b[0mreport\u001b[0m\u001b[0;34m[\u001b[0m\u001b[0;34m'macro avg'\u001b[0m\u001b[0;34m]\u001b[0m\u001b[0;34m[\u001b[0m\u001b[0;34m'f1-score'\u001b[0m\u001b[0;34m]\u001b[0m\u001b[0;34m\u001b[0m\u001b[0;34m\u001b[0m\u001b[0m\n",
            "\u001b[0;32m<ipython-input-13-8316f42f676a>\u001b[0m in \u001b[0;36mpredict_with_thresholds\u001b[0;34m(model, dataloader, device, thresholds)\u001b[0m\n\u001b[1;32m     18\u001b[0m \u001b[0;34m\u001b[0m\u001b[0m\n\u001b[1;32m     19\u001b[0m     \u001b[0;32mwith\u001b[0m \u001b[0mtorch\u001b[0m\u001b[0;34m.\u001b[0m\u001b[0mno_grad\u001b[0m\u001b[0;34m(\u001b[0m\u001b[0;34m)\u001b[0m\u001b[0;34m:\u001b[0m\u001b[0;34m\u001b[0m\u001b[0;34m\u001b[0m\u001b[0m\n\u001b[0;32m---> 20\u001b[0;31m         \u001b[0;32mfor\u001b[0m \u001b[0mx_batch\u001b[0m\u001b[0;34m,\u001b[0m \u001b[0my_batch\u001b[0m\u001b[0;34m,\u001b[0m \u001b[0mimage_sample_name\u001b[0m \u001b[0;32min\u001b[0m \u001b[0mdataloader\u001b[0m\u001b[0;34m:\u001b[0m\u001b[0;34m\u001b[0m\u001b[0;34m\u001b[0m\u001b[0m\n\u001b[0m\u001b[1;32m     21\u001b[0m             \u001b[0mx_batch\u001b[0m \u001b[0;34m=\u001b[0m \u001b[0mx_batch\u001b[0m\u001b[0;34m.\u001b[0m\u001b[0mto\u001b[0m\u001b[0;34m(\u001b[0m\u001b[0mdevice\u001b[0m\u001b[0;34m)\u001b[0m\u001b[0;34m\u001b[0m\u001b[0;34m\u001b[0m\u001b[0m\n\u001b[1;32m     22\u001b[0m             \u001b[0my_batch\u001b[0m \u001b[0;34m=\u001b[0m \u001b[0my_batch\u001b[0m\u001b[0;34m.\u001b[0m\u001b[0munsqueeze\u001b[0m\u001b[0;34m(\u001b[0m\u001b[0;36m1\u001b[0m\u001b[0;34m)\u001b[0m\u001b[0;34m.\u001b[0m\u001b[0mfloat\u001b[0m\u001b[0;34m(\u001b[0m\u001b[0;34m)\u001b[0m  \u001b[0;31m# Convert target to same nn output shape\u001b[0m\u001b[0;34m\u001b[0m\u001b[0;34m\u001b[0m\u001b[0m\n",
            "\u001b[0;32m/usr/local/lib/python3.11/dist-packages/torch/utils/data/dataloader.py\u001b[0m in \u001b[0;36m__next__\u001b[0;34m(self)\u001b[0m\n\u001b[1;32m    699\u001b[0m                 \u001b[0;31m# TODO(https://github.com/pytorch/pytorch/issues/76750)\u001b[0m\u001b[0;34m\u001b[0m\u001b[0;34m\u001b[0m\u001b[0m\n\u001b[1;32m    700\u001b[0m                 \u001b[0mself\u001b[0m\u001b[0;34m.\u001b[0m\u001b[0m_reset\u001b[0m\u001b[0;34m(\u001b[0m\u001b[0;34m)\u001b[0m  \u001b[0;31m# type: ignore[call-arg]\u001b[0m\u001b[0;34m\u001b[0m\u001b[0;34m\u001b[0m\u001b[0m\n\u001b[0;32m--> 701\u001b[0;31m             \u001b[0mdata\u001b[0m \u001b[0;34m=\u001b[0m \u001b[0mself\u001b[0m\u001b[0;34m.\u001b[0m\u001b[0m_next_data\u001b[0m\u001b[0;34m(\u001b[0m\u001b[0;34m)\u001b[0m\u001b[0;34m\u001b[0m\u001b[0;34m\u001b[0m\u001b[0m\n\u001b[0m\u001b[1;32m    702\u001b[0m             \u001b[0mself\u001b[0m\u001b[0;34m.\u001b[0m\u001b[0m_num_yielded\u001b[0m \u001b[0;34m+=\u001b[0m \u001b[0;36m1\u001b[0m\u001b[0;34m\u001b[0m\u001b[0;34m\u001b[0m\u001b[0m\n\u001b[1;32m    703\u001b[0m             if (\n",
            "\u001b[0;32m/usr/local/lib/python3.11/dist-packages/torch/utils/data/dataloader.py\u001b[0m in \u001b[0;36m_next_data\u001b[0;34m(self)\u001b[0m\n\u001b[1;32m    755\u001b[0m     \u001b[0;32mdef\u001b[0m \u001b[0m_next_data\u001b[0m\u001b[0;34m(\u001b[0m\u001b[0mself\u001b[0m\u001b[0;34m)\u001b[0m\u001b[0;34m:\u001b[0m\u001b[0;34m\u001b[0m\u001b[0;34m\u001b[0m\u001b[0m\n\u001b[1;32m    756\u001b[0m         \u001b[0mindex\u001b[0m \u001b[0;34m=\u001b[0m \u001b[0mself\u001b[0m\u001b[0;34m.\u001b[0m\u001b[0m_next_index\u001b[0m\u001b[0;34m(\u001b[0m\u001b[0;34m)\u001b[0m  \u001b[0;31m# may raise StopIteration\u001b[0m\u001b[0;34m\u001b[0m\u001b[0;34m\u001b[0m\u001b[0m\n\u001b[0;32m--> 757\u001b[0;31m         \u001b[0mdata\u001b[0m \u001b[0;34m=\u001b[0m \u001b[0mself\u001b[0m\u001b[0;34m.\u001b[0m\u001b[0m_dataset_fetcher\u001b[0m\u001b[0;34m.\u001b[0m\u001b[0mfetch\u001b[0m\u001b[0;34m(\u001b[0m\u001b[0mindex\u001b[0m\u001b[0;34m)\u001b[0m  \u001b[0;31m# may raise StopIteration\u001b[0m\u001b[0;34m\u001b[0m\u001b[0;34m\u001b[0m\u001b[0m\n\u001b[0m\u001b[1;32m    758\u001b[0m         \u001b[0;32mif\u001b[0m \u001b[0mself\u001b[0m\u001b[0;34m.\u001b[0m\u001b[0m_pin_memory\u001b[0m\u001b[0;34m:\u001b[0m\u001b[0;34m\u001b[0m\u001b[0;34m\u001b[0m\u001b[0m\n\u001b[1;32m    759\u001b[0m             \u001b[0mdata\u001b[0m \u001b[0;34m=\u001b[0m \u001b[0m_utils\u001b[0m\u001b[0;34m.\u001b[0m\u001b[0mpin_memory\u001b[0m\u001b[0;34m.\u001b[0m\u001b[0mpin_memory\u001b[0m\u001b[0;34m(\u001b[0m\u001b[0mdata\u001b[0m\u001b[0;34m,\u001b[0m \u001b[0mself\u001b[0m\u001b[0;34m.\u001b[0m\u001b[0m_pin_memory_device\u001b[0m\u001b[0;34m)\u001b[0m\u001b[0;34m\u001b[0m\u001b[0;34m\u001b[0m\u001b[0m\n",
            "\u001b[0;32m/usr/local/lib/python3.11/dist-packages/torch/utils/data/_utils/fetch.py\u001b[0m in \u001b[0;36mfetch\u001b[0;34m(self, possibly_batched_index)\u001b[0m\n\u001b[1;32m     50\u001b[0m                 \u001b[0mdata\u001b[0m \u001b[0;34m=\u001b[0m \u001b[0mself\u001b[0m\u001b[0;34m.\u001b[0m\u001b[0mdataset\u001b[0m\u001b[0;34m.\u001b[0m\u001b[0m__getitems__\u001b[0m\u001b[0;34m(\u001b[0m\u001b[0mpossibly_batched_index\u001b[0m\u001b[0;34m)\u001b[0m\u001b[0;34m\u001b[0m\u001b[0;34m\u001b[0m\u001b[0m\n\u001b[1;32m     51\u001b[0m             \u001b[0;32melse\u001b[0m\u001b[0;34m:\u001b[0m\u001b[0;34m\u001b[0m\u001b[0;34m\u001b[0m\u001b[0m\n\u001b[0;32m---> 52\u001b[0;31m                 \u001b[0mdata\u001b[0m \u001b[0;34m=\u001b[0m \u001b[0;34m[\u001b[0m\u001b[0mself\u001b[0m\u001b[0;34m.\u001b[0m\u001b[0mdataset\u001b[0m\u001b[0;34m[\u001b[0m\u001b[0midx\u001b[0m\u001b[0;34m]\u001b[0m \u001b[0;32mfor\u001b[0m \u001b[0midx\u001b[0m \u001b[0;32min\u001b[0m \u001b[0mpossibly_batched_index\u001b[0m\u001b[0;34m]\u001b[0m\u001b[0;34m\u001b[0m\u001b[0;34m\u001b[0m\u001b[0m\n\u001b[0m\u001b[1;32m     53\u001b[0m         \u001b[0;32melse\u001b[0m\u001b[0;34m:\u001b[0m\u001b[0;34m\u001b[0m\u001b[0;34m\u001b[0m\u001b[0m\n\u001b[1;32m     54\u001b[0m             \u001b[0mdata\u001b[0m \u001b[0;34m=\u001b[0m \u001b[0mself\u001b[0m\u001b[0;34m.\u001b[0m\u001b[0mdataset\u001b[0m\u001b[0;34m[\u001b[0m\u001b[0mpossibly_batched_index\u001b[0m\u001b[0;34m]\u001b[0m\u001b[0;34m\u001b[0m\u001b[0;34m\u001b[0m\u001b[0m\n",
            "\u001b[0;32m/usr/local/lib/python3.11/dist-packages/torch/utils/data/_utils/fetch.py\u001b[0m in \u001b[0;36m<listcomp>\u001b[0;34m(.0)\u001b[0m\n\u001b[1;32m     50\u001b[0m                 \u001b[0mdata\u001b[0m \u001b[0;34m=\u001b[0m \u001b[0mself\u001b[0m\u001b[0;34m.\u001b[0m\u001b[0mdataset\u001b[0m\u001b[0;34m.\u001b[0m\u001b[0m__getitems__\u001b[0m\u001b[0;34m(\u001b[0m\u001b[0mpossibly_batched_index\u001b[0m\u001b[0;34m)\u001b[0m\u001b[0;34m\u001b[0m\u001b[0;34m\u001b[0m\u001b[0m\n\u001b[1;32m     51\u001b[0m             \u001b[0;32melse\u001b[0m\u001b[0;34m:\u001b[0m\u001b[0;34m\u001b[0m\u001b[0;34m\u001b[0m\u001b[0m\n\u001b[0;32m---> 52\u001b[0;31m                 \u001b[0mdata\u001b[0m \u001b[0;34m=\u001b[0m \u001b[0;34m[\u001b[0m\u001b[0mself\u001b[0m\u001b[0;34m.\u001b[0m\u001b[0mdataset\u001b[0m\u001b[0;34m[\u001b[0m\u001b[0midx\u001b[0m\u001b[0;34m]\u001b[0m \u001b[0;32mfor\u001b[0m \u001b[0midx\u001b[0m \u001b[0;32min\u001b[0m \u001b[0mpossibly_batched_index\u001b[0m\u001b[0;34m]\u001b[0m\u001b[0;34m\u001b[0m\u001b[0;34m\u001b[0m\u001b[0m\n\u001b[0m\u001b[1;32m     53\u001b[0m         \u001b[0;32melse\u001b[0m\u001b[0;34m:\u001b[0m\u001b[0;34m\u001b[0m\u001b[0;34m\u001b[0m\u001b[0m\n\u001b[1;32m     54\u001b[0m             \u001b[0mdata\u001b[0m \u001b[0;34m=\u001b[0m \u001b[0mself\u001b[0m\u001b[0;34m.\u001b[0m\u001b[0mdataset\u001b[0m\u001b[0;34m[\u001b[0m\u001b[0mpossibly_batched_index\u001b[0m\u001b[0;34m]\u001b[0m\u001b[0;34m\u001b[0m\u001b[0;34m\u001b[0m\u001b[0m\n",
            "\u001b[0;32m<ipython-input-6-c8101c5a9ed7>\u001b[0m in \u001b[0;36m__getitem__\u001b[0;34m(self, index)\u001b[0m\n\u001b[1;32m     33\u001b[0m         \u001b[0mfilename\u001b[0m \u001b[0;34m=\u001b[0m \u001b[0mos\u001b[0m\u001b[0;34m.\u001b[0m\u001b[0mpath\u001b[0m\u001b[0;34m.\u001b[0m\u001b[0mbasename\u001b[0m\u001b[0;34m(\u001b[0m\u001b[0mpath\u001b[0m\u001b[0;34m)\u001b[0m\u001b[0;34m\u001b[0m\u001b[0;34m\u001b[0m\u001b[0m\n\u001b[1;32m     34\u001b[0m         \u001b[0;32mif\u001b[0m \u001b[0mself\u001b[0m\u001b[0;34m.\u001b[0m\u001b[0mtransform\u001b[0m \u001b[0;32mis\u001b[0m \u001b[0;32mnot\u001b[0m \u001b[0;32mNone\u001b[0m\u001b[0;34m:\u001b[0m\u001b[0;34m\u001b[0m\u001b[0;34m\u001b[0m\u001b[0m\n\u001b[0;32m---> 35\u001b[0;31m             \u001b[0msample\u001b[0m \u001b[0;34m=\u001b[0m \u001b[0mself\u001b[0m\u001b[0;34m.\u001b[0m\u001b[0mtransform\u001b[0m\u001b[0;34m(\u001b[0m\u001b[0msample\u001b[0m\u001b[0;34m)\u001b[0m\u001b[0;34m\u001b[0m\u001b[0;34m\u001b[0m\u001b[0m\n\u001b[0m\u001b[1;32m     36\u001b[0m         \u001b[0;32mif\u001b[0m \u001b[0mself\u001b[0m\u001b[0;34m.\u001b[0m\u001b[0mtarget_transform\u001b[0m \u001b[0;32mis\u001b[0m \u001b[0;32mnot\u001b[0m \u001b[0;32mNone\u001b[0m\u001b[0;34m:\u001b[0m\u001b[0;34m\u001b[0m\u001b[0;34m\u001b[0m\u001b[0m\n\u001b[1;32m     37\u001b[0m             \u001b[0mtarget\u001b[0m \u001b[0;34m=\u001b[0m \u001b[0mself\u001b[0m\u001b[0;34m.\u001b[0m\u001b[0mtarget_transform\u001b[0m\u001b[0;34m(\u001b[0m\u001b[0mtarget\u001b[0m\u001b[0;34m)\u001b[0m\u001b[0;34m\u001b[0m\u001b[0;34m\u001b[0m\u001b[0m\n",
            "\u001b[0;32m/usr/local/lib/python3.11/dist-packages/torchvision/transforms/transforms.py\u001b[0m in \u001b[0;36m__call__\u001b[0;34m(self, img)\u001b[0m\n\u001b[1;32m     93\u001b[0m     \u001b[0;32mdef\u001b[0m \u001b[0m__call__\u001b[0m\u001b[0;34m(\u001b[0m\u001b[0mself\u001b[0m\u001b[0;34m,\u001b[0m \u001b[0mimg\u001b[0m\u001b[0;34m)\u001b[0m\u001b[0;34m:\u001b[0m\u001b[0;34m\u001b[0m\u001b[0;34m\u001b[0m\u001b[0m\n\u001b[1;32m     94\u001b[0m         \u001b[0;32mfor\u001b[0m \u001b[0mt\u001b[0m \u001b[0;32min\u001b[0m \u001b[0mself\u001b[0m\u001b[0;34m.\u001b[0m\u001b[0mtransforms\u001b[0m\u001b[0;34m:\u001b[0m\u001b[0;34m\u001b[0m\u001b[0;34m\u001b[0m\u001b[0m\n\u001b[0;32m---> 95\u001b[0;31m             \u001b[0mimg\u001b[0m \u001b[0;34m=\u001b[0m \u001b[0mt\u001b[0m\u001b[0;34m(\u001b[0m\u001b[0mimg\u001b[0m\u001b[0;34m)\u001b[0m\u001b[0;34m\u001b[0m\u001b[0;34m\u001b[0m\u001b[0m\n\u001b[0m\u001b[1;32m     96\u001b[0m         \u001b[0;32mreturn\u001b[0m \u001b[0mimg\u001b[0m\u001b[0;34m\u001b[0m\u001b[0;34m\u001b[0m\u001b[0m\n\u001b[1;32m     97\u001b[0m \u001b[0;34m\u001b[0m\u001b[0m\n",
            "\u001b[0;32m/usr/local/lib/python3.11/dist-packages/torch/nn/modules/module.py\u001b[0m in \u001b[0;36m_wrapped_call_impl\u001b[0;34m(self, *args, **kwargs)\u001b[0m\n\u001b[1;32m   1734\u001b[0m             \u001b[0;32mreturn\u001b[0m \u001b[0mself\u001b[0m\u001b[0;34m.\u001b[0m\u001b[0m_compiled_call_impl\u001b[0m\u001b[0;34m(\u001b[0m\u001b[0;34m*\u001b[0m\u001b[0margs\u001b[0m\u001b[0;34m,\u001b[0m \u001b[0;34m**\u001b[0m\u001b[0mkwargs\u001b[0m\u001b[0;34m)\u001b[0m  \u001b[0;31m# type: ignore[misc]\u001b[0m\u001b[0;34m\u001b[0m\u001b[0;34m\u001b[0m\u001b[0m\n\u001b[1;32m   1735\u001b[0m         \u001b[0;32melse\u001b[0m\u001b[0;34m:\u001b[0m\u001b[0;34m\u001b[0m\u001b[0;34m\u001b[0m\u001b[0m\n\u001b[0;32m-> 1736\u001b[0;31m             \u001b[0;32mreturn\u001b[0m \u001b[0mself\u001b[0m\u001b[0;34m.\u001b[0m\u001b[0m_call_impl\u001b[0m\u001b[0;34m(\u001b[0m\u001b[0;34m*\u001b[0m\u001b[0margs\u001b[0m\u001b[0;34m,\u001b[0m \u001b[0;34m**\u001b[0m\u001b[0mkwargs\u001b[0m\u001b[0;34m)\u001b[0m\u001b[0;34m\u001b[0m\u001b[0;34m\u001b[0m\u001b[0m\n\u001b[0m\u001b[1;32m   1737\u001b[0m \u001b[0;34m\u001b[0m\u001b[0m\n\u001b[1;32m   1738\u001b[0m     \u001b[0;31m# torchrec tests the code consistency with the following code\u001b[0m\u001b[0;34m\u001b[0m\u001b[0;34m\u001b[0m\u001b[0m\n",
            "\u001b[0;32m/usr/local/lib/python3.11/dist-packages/torch/nn/modules/module.py\u001b[0m in \u001b[0;36m_call_impl\u001b[0;34m(self, *args, **kwargs)\u001b[0m\n\u001b[1;32m   1745\u001b[0m                 \u001b[0;32mor\u001b[0m \u001b[0m_global_backward_pre_hooks\u001b[0m \u001b[0;32mor\u001b[0m \u001b[0m_global_backward_hooks\u001b[0m\u001b[0;34m\u001b[0m\u001b[0;34m\u001b[0m\u001b[0m\n\u001b[1;32m   1746\u001b[0m                 or _global_forward_hooks or _global_forward_pre_hooks):\n\u001b[0;32m-> 1747\u001b[0;31m             \u001b[0;32mreturn\u001b[0m \u001b[0mforward_call\u001b[0m\u001b[0;34m(\u001b[0m\u001b[0;34m*\u001b[0m\u001b[0margs\u001b[0m\u001b[0;34m,\u001b[0m \u001b[0;34m**\u001b[0m\u001b[0mkwargs\u001b[0m\u001b[0;34m)\u001b[0m\u001b[0;34m\u001b[0m\u001b[0;34m\u001b[0m\u001b[0m\n\u001b[0m\u001b[1;32m   1748\u001b[0m \u001b[0;34m\u001b[0m\u001b[0m\n\u001b[1;32m   1749\u001b[0m         \u001b[0mresult\u001b[0m \u001b[0;34m=\u001b[0m \u001b[0;32mNone\u001b[0m\u001b[0;34m\u001b[0m\u001b[0;34m\u001b[0m\u001b[0m\n",
            "\u001b[0;32m/usr/local/lib/python3.11/dist-packages/torchvision/transforms/transforms.py\u001b[0m in \u001b[0;36mforward\u001b[0;34m(self, img)\u001b[0m\n\u001b[1;32m    352\u001b[0m             \u001b[0mPIL\u001b[0m \u001b[0mImage\u001b[0m \u001b[0;32mor\u001b[0m \u001b[0mTensor\u001b[0m\u001b[0;34m:\u001b[0m \u001b[0mRescaled\u001b[0m \u001b[0mimage\u001b[0m\u001b[0;34m.\u001b[0m\u001b[0;34m\u001b[0m\u001b[0;34m\u001b[0m\u001b[0m\n\u001b[1;32m    353\u001b[0m         \"\"\"\n\u001b[0;32m--> 354\u001b[0;31m         \u001b[0;32mreturn\u001b[0m \u001b[0mF\u001b[0m\u001b[0;34m.\u001b[0m\u001b[0mresize\u001b[0m\u001b[0;34m(\u001b[0m\u001b[0mimg\u001b[0m\u001b[0;34m,\u001b[0m \u001b[0mself\u001b[0m\u001b[0;34m.\u001b[0m\u001b[0msize\u001b[0m\u001b[0;34m,\u001b[0m \u001b[0mself\u001b[0m\u001b[0;34m.\u001b[0m\u001b[0minterpolation\u001b[0m\u001b[0;34m,\u001b[0m \u001b[0mself\u001b[0m\u001b[0;34m.\u001b[0m\u001b[0mmax_size\u001b[0m\u001b[0;34m,\u001b[0m \u001b[0mself\u001b[0m\u001b[0;34m.\u001b[0m\u001b[0mantialias\u001b[0m\u001b[0;34m)\u001b[0m\u001b[0;34m\u001b[0m\u001b[0;34m\u001b[0m\u001b[0m\n\u001b[0m\u001b[1;32m    355\u001b[0m \u001b[0;34m\u001b[0m\u001b[0m\n\u001b[1;32m    356\u001b[0m     \u001b[0;32mdef\u001b[0m \u001b[0m__repr__\u001b[0m\u001b[0;34m(\u001b[0m\u001b[0mself\u001b[0m\u001b[0;34m)\u001b[0m \u001b[0;34m->\u001b[0m \u001b[0mstr\u001b[0m\u001b[0;34m:\u001b[0m\u001b[0;34m\u001b[0m\u001b[0;34m\u001b[0m\u001b[0m\n",
            "\u001b[0;32m/usr/local/lib/python3.11/dist-packages/torchvision/transforms/functional.py\u001b[0m in \u001b[0;36mresize\u001b[0;34m(img, size, interpolation, max_size, antialias)\u001b[0m\n\u001b[1;32m    475\u001b[0m             \u001b[0mwarnings\u001b[0m\u001b[0;34m.\u001b[0m\u001b[0mwarn\u001b[0m\u001b[0;34m(\u001b[0m\u001b[0;34m\"Anti-alias option is always applied for PIL Image input. Argument antialias is ignored.\"\u001b[0m\u001b[0;34m)\u001b[0m\u001b[0;34m\u001b[0m\u001b[0;34m\u001b[0m\u001b[0m\n\u001b[1;32m    476\u001b[0m         \u001b[0mpil_interpolation\u001b[0m \u001b[0;34m=\u001b[0m \u001b[0mpil_modes_mapping\u001b[0m\u001b[0;34m[\u001b[0m\u001b[0minterpolation\u001b[0m\u001b[0;34m]\u001b[0m\u001b[0;34m\u001b[0m\u001b[0;34m\u001b[0m\u001b[0m\n\u001b[0;32m--> 477\u001b[0;31m         \u001b[0;32mreturn\u001b[0m \u001b[0mF_pil\u001b[0m\u001b[0;34m.\u001b[0m\u001b[0mresize\u001b[0m\u001b[0;34m(\u001b[0m\u001b[0mimg\u001b[0m\u001b[0;34m,\u001b[0m \u001b[0msize\u001b[0m\u001b[0;34m=\u001b[0m\u001b[0moutput_size\u001b[0m\u001b[0;34m,\u001b[0m \u001b[0minterpolation\u001b[0m\u001b[0;34m=\u001b[0m\u001b[0mpil_interpolation\u001b[0m\u001b[0;34m)\u001b[0m\u001b[0;34m\u001b[0m\u001b[0;34m\u001b[0m\u001b[0m\n\u001b[0m\u001b[1;32m    478\u001b[0m \u001b[0;34m\u001b[0m\u001b[0m\n\u001b[1;32m    479\u001b[0m     \u001b[0;32mreturn\u001b[0m \u001b[0mF_t\u001b[0m\u001b[0;34m.\u001b[0m\u001b[0mresize\u001b[0m\u001b[0;34m(\u001b[0m\u001b[0mimg\u001b[0m\u001b[0;34m,\u001b[0m \u001b[0msize\u001b[0m\u001b[0;34m=\u001b[0m\u001b[0moutput_size\u001b[0m\u001b[0;34m,\u001b[0m \u001b[0minterpolation\u001b[0m\u001b[0;34m=\u001b[0m\u001b[0minterpolation\u001b[0m\u001b[0;34m.\u001b[0m\u001b[0mvalue\u001b[0m\u001b[0;34m,\u001b[0m \u001b[0mantialias\u001b[0m\u001b[0;34m=\u001b[0m\u001b[0mantialias\u001b[0m\u001b[0;34m)\u001b[0m\u001b[0;34m\u001b[0m\u001b[0;34m\u001b[0m\u001b[0m\n",
            "\u001b[0;32m/usr/local/lib/python3.11/dist-packages/torchvision/transforms/_functional_pil.py\u001b[0m in \u001b[0;36mresize\u001b[0;34m(img, size, interpolation)\u001b[0m\n\u001b[1;32m    248\u001b[0m         \u001b[0;32mraise\u001b[0m \u001b[0mTypeError\u001b[0m\u001b[0;34m(\u001b[0m\u001b[0;34mf\"Got inappropriate size arg: {size}\"\u001b[0m\u001b[0;34m)\u001b[0m\u001b[0;34m\u001b[0m\u001b[0;34m\u001b[0m\u001b[0m\n\u001b[1;32m    249\u001b[0m \u001b[0;34m\u001b[0m\u001b[0m\n\u001b[0;32m--> 250\u001b[0;31m     \u001b[0;32mreturn\u001b[0m \u001b[0mimg\u001b[0m\u001b[0;34m.\u001b[0m\u001b[0mresize\u001b[0m\u001b[0;34m(\u001b[0m\u001b[0mtuple\u001b[0m\u001b[0;34m(\u001b[0m\u001b[0msize\u001b[0m\u001b[0;34m[\u001b[0m\u001b[0;34m:\u001b[0m\u001b[0;34m:\u001b[0m\u001b[0;34m-\u001b[0m\u001b[0;36m1\u001b[0m\u001b[0;34m]\u001b[0m\u001b[0;34m)\u001b[0m\u001b[0;34m,\u001b[0m \u001b[0minterpolation\u001b[0m\u001b[0;34m)\u001b[0m\u001b[0;34m\u001b[0m\u001b[0;34m\u001b[0m\u001b[0m\n\u001b[0m\u001b[1;32m    251\u001b[0m \u001b[0;34m\u001b[0m\u001b[0m\n\u001b[1;32m    252\u001b[0m \u001b[0;34m\u001b[0m\u001b[0m\n",
            "\u001b[0;32m/usr/local/lib/python3.11/dist-packages/PIL/Image.py\u001b[0m in \u001b[0;36mresize\u001b[0;34m(self, size, resample, box, reducing_gap)\u001b[0m\n\u001b[1;32m   2354\u001b[0m                 )\n\u001b[1;32m   2355\u001b[0m \u001b[0;34m\u001b[0m\u001b[0m\n\u001b[0;32m-> 2356\u001b[0;31m         \u001b[0;32mreturn\u001b[0m \u001b[0mself\u001b[0m\u001b[0;34m.\u001b[0m\u001b[0m_new\u001b[0m\u001b[0;34m(\u001b[0m\u001b[0mself\u001b[0m\u001b[0;34m.\u001b[0m\u001b[0mim\u001b[0m\u001b[0;34m.\u001b[0m\u001b[0mresize\u001b[0m\u001b[0;34m(\u001b[0m\u001b[0msize\u001b[0m\u001b[0;34m,\u001b[0m \u001b[0mresample\u001b[0m\u001b[0;34m,\u001b[0m \u001b[0mbox\u001b[0m\u001b[0;34m)\u001b[0m\u001b[0;34m)\u001b[0m\u001b[0;34m\u001b[0m\u001b[0;34m\u001b[0m\u001b[0m\n\u001b[0m\u001b[1;32m   2357\u001b[0m \u001b[0;34m\u001b[0m\u001b[0m\n\u001b[1;32m   2358\u001b[0m     def reduce(\n",
            "\u001b[0;31mKeyboardInterrupt\u001b[0m: "
          ]
        }
      ]
    },
    {
      "cell_type": "markdown",
      "source": [
        "# Use Firefly algorithms"
      ],
      "metadata": {
        "id": "yYlmVyRfAVbs"
      }
    },
    {
      "cell_type": "code",
      "source": [
        "# prompt: Use Firefly algorithms\n",
        "\n",
        "import random\n",
        "\n",
        "# ... (your existing code) ...\n",
        "\n",
        "def firefly_algorithm(model, dataloader, device, num_fireflies=20, max_iterations=25, absorption_coefficient=0.1, attractiveness=1.0):\n",
        "    \"\"\"\n",
        "    Finds the best thresholds using the Firefly Algorithm.\n",
        "    \"\"\"\n",
        "    num_classes = 4\n",
        "    fireflies = []\n",
        "    for _ in range(num_fireflies):\n",
        "        fireflies.append([random.uniform(0, 1) for _ in range(num_classes)])\n",
        "\n",
        "    best_thresholds = None\n",
        "    best_fitness = 0\n",
        "\n",
        "    for iteration in range(max_iterations):\n",
        "        for i in range(num_fireflies):\n",
        "            for j in range(num_fireflies):\n",
        "                if fitness_function(fireflies[j], model, dataloader, device) > fitness_function(fireflies[i], model, dataloader, device):\n",
        "                    # Move firefly i towards firefly j\n",
        "                    distance = sum([(fireflies[i][k] - fireflies[j][k])**2 for k in range(num_classes)])**0.5\n",
        "                    beta = attractiveness / (1 + absorption_coefficient * distance)\n",
        "                    for k in range(num_classes):\n",
        "                        fireflies[i][k] = fireflies[i][k] + beta * (fireflies[j][k] - fireflies[i][k]) + random.uniform(-0.1, 0.1)\n",
        "                        fireflies[i][k] = max(0, min(1, fireflies[i][k]))  # Keep within [0, 1]\n",
        "\n",
        "\n",
        "            current_fitness = fitness_function(fireflies[i], model, dataloader, device)\n",
        "            if current_fitness > best_fitness:\n",
        "                best_fitness = current_fitness\n",
        "                best_thresholds = fireflies[i]\n",
        "\n",
        "        print(f\"Iteration {iteration + 1}: Best F1 = {best_fitness:.4f}, Thresholds = {best_thresholds}\")\n",
        "\n",
        "    return best_thresholds\n",
        "\n",
        "best_thresholds_fa = firefly_algorithm(model, testloader, device)\n",
        "print(f\"\\nBest thresholds found by firefly algorithm: {best_thresholds_fa}\")\n"
      ],
      "metadata": {
        "id": "-pkGv3IwsAoL"
      },
      "execution_count": null,
      "outputs": []
    }
  ]
}